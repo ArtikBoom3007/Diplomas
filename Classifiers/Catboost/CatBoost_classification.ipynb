{
 "cells": [
  {
   "cell_type": "code",
   "execution_count": 1,
   "metadata": {},
   "outputs": [],
   "source": [
    "import numpy as np\n",
    "import pandas as pd\n",
    "from sklearn.preprocessing import StandardScaler\n",
    "from sklearn.model_selection import train_test_split\n",
    "from catboost import CatBoostClassifier\n",
    "from sklearn.metrics import accuracy_score, f1_score, recall_score, confusion_matrix\n",
    "import seaborn as sns\n",
    "import matplotlib.pyplot as plt\n",
    "from sklearn.utils import shuffle"
   ]
  },
  {
   "cell_type": "code",
   "execution_count": 2,
   "metadata": {},
   "outputs": [],
   "source": [
    "# Функция для аугментации данных с шумом и джиттером\n",
    "def augment_data_with_noise(X, y, num_augmentations=10, noise_factor=0.05, jitter_factor=0.03):\n",
    "    augmented_data = []\n",
    "    augmented_labels = []\n",
    "    \n",
    "    for index in range(len(X)):\n",
    "        signal = X.iloc[index].values\n",
    "        label = y.iloc[index]\n",
    "\n",
    "        # Оригинальный сигнал\n",
    "        augmented_data.append(signal)\n",
    "        augmented_labels.append(label)\n",
    "        \n",
    "        # Аугментированные сигналы\n",
    "        for _ in range(num_augmentations):\n",
    "            # Добавляем шум\n",
    "            noise = np.random.normal(0, noise_factor, size=signal.shape)\n",
    "            noisy_signal = signal + noise\n",
    "            augmented_data.append(noisy_signal)\n",
    "            augmented_labels.append(label)\n",
    "            \n",
    "            # Добавляем джиттер\n",
    "            jitter = np.random.normal(0, jitter_factor, size=signal.shape)\n",
    "            jittered_signal = signal + jitter\n",
    "            augmented_data.append(jittered_signal)\n",
    "            augmented_labels.append(label)\n",
    "\n",
    "    return np.array(augmented_data), np.array(augmented_labels)"
   ]
  },
  {
   "cell_type": "code",
   "execution_count": 3,
   "metadata": {},
   "outputs": [],
   "source": [
    "\n",
    "df = pd.read_csv('D:/VECG/catboost/features.csv')\n",
    "X = df.drop(columns=['Class', 'Patient_Name'])\n",
    "y = df['Class']\n",
    "X_ill = X[y == 1]  # Больные\n",
    "X_healthy = X[y == 0]  # Здоровые\n",
    "y_ill = y[y == 1]\n",
    "y_healthy = y[y == 0]"
   ]
  },
  {
   "cell_type": "code",
   "execution_count": 4,
   "metadata": {},
   "outputs": [],
   "source": [
    "X_train_ill, X_test_ill, y_train_ill, y_test_ill = train_test_split(X_ill, y_ill, train_size=30, random_state=42)\n",
    "X_train_healthy, X_test_healthy, y_train_healthy, y_test_healthy = train_test_split(X_healthy, y_healthy, train_size=30, random_state=42)\n"
   ]
  },
  {
   "cell_type": "code",
   "execution_count": 5,
   "metadata": {},
   "outputs": [],
   "source": [
    "X_train = pd.concat([X_train_ill, X_train_healthy], axis=0)\n",
    "y_train = pd.concat([y_train_ill, y_train_healthy], axis=0)\n",
    "X_test = pd.concat([X_test_ill, X_test_healthy], axis=0)\n",
    "y_test = pd.concat([y_test_ill, y_test_healthy], axis=0)"
   ]
  },
  {
   "cell_type": "code",
   "execution_count": 6,
   "metadata": {},
   "outputs": [],
   "source": [
    "X_train, y_train = shuffle(X_train, y_train, random_state=42)"
   ]
  },
  {
   "cell_type": "code",
   "execution_count": 7,
   "metadata": {},
   "outputs": [
    {
     "name": "stdout",
     "output_type": "stream",
     "text": [
      "Тестовые данные сохранены в D:/VECG/catboost/test_features.csv\n"
     ]
    }
   ],
   "source": [
    "test_output_path = 'D:/VECG/catboost/test_features.csv'\n",
    "pd.concat([X_test, y_test], axis=1).to_csv(test_output_path, index=False)\n",
    "print(f\"Тестовые данные сохранены в {test_output_path}\")"
   ]
  },
  {
   "cell_type": "code",
   "execution_count": 8,
   "metadata": {},
   "outputs": [
    {
     "name": "stdout",
     "output_type": "stream",
     "text": [
      "Количество больных в тренировочной выборке: 30\n",
      "Количество здоровых в тренировочной выборке: 30\n",
      "Количество больных в тестовой выборке: 32\n",
      "Количество здоровых в тестовой выборке: 79\n"
     ]
    }
   ],
   "source": [
    "print(f\"Количество больных в тренировочной выборке: {sum(y_train == 1)}\")\n",
    "print(f\"Количество здоровых в тренировочной выборке: {sum(y_train == 0)}\")\n",
    "print(f\"Количество больных в тестовой выборке: {sum(y_test == 1)}\")\n",
    "print(f\"Количество здоровых в тестовой выборке: {sum(y_test == 0)}\")"
   ]
  },
  {
   "cell_type": "code",
   "execution_count": 9,
   "metadata": {},
   "outputs": [],
   "source": [
    "X_train_numeric = X_train.select_dtypes(include=[np.number])\n",
    "X_test_numeric = X_test.select_dtypes(include=[np.number])\n"
   ]
  },
  {
   "cell_type": "code",
   "execution_count": 10,
   "metadata": {},
   "outputs": [
    {
     "name": "stdout",
     "output_type": "stream",
     "text": [
      "Количество аугментированных данных: 2460\n"
     ]
    }
   ],
   "source": [
    "# аугментация на тренировочных данных\n",
    "X_train_augmented, y_train_augmented = augment_data_with_noise(X_train_numeric, y_train, num_augmentations=20)\n",
    "print(f\"Количество аугментированных данных: {len(X_train_augmented)}\")"
   ]
  },
  {
   "cell_type": "code",
   "execution_count": 11,
   "metadata": {},
   "outputs": [
    {
     "name": "stderr",
     "output_type": "stream",
     "text": [
      "d:\\Python 3.11\\Lib\\site-packages\\sklearn\\base.py:486: UserWarning: X has feature names, but StandardScaler was fitted without feature names\n",
      "  warnings.warn(\n"
     ]
    }
   ],
   "source": [
    "# Стандартизация данных\n",
    "scaler = StandardScaler()\n",
    "X_train_augmented_scaled = scaler.fit_transform(X_train_augmented)\n",
    "\n",
    "# Стандартизация тестовых данных\n",
    "X_test_scaled = scaler.transform(X_test_numeric)"
   ]
  },
  {
   "cell_type": "code",
   "execution_count": 12,
   "metadata": {},
   "outputs": [],
   "source": [
    "# Обучение модели CatBoost\n",
    "catboost_model = CatBoostClassifier(depth=5, learning_rate=0.1, iterations=200, random_state=42)\n",
    "\n",
    "# Обучение на аугментированных данных\n",
    "catboost_model.fit(X_train_augmented_scaled, y_train_augmented, verbose=False)\n",
    "\n",
    "# Предсказания на тестовых данных\n",
    "y_pred = catboost_model.predict(X_test_scaled)"
   ]
  },
  {
   "cell_type": "code",
   "execution_count": 13,
   "metadata": {},
   "outputs": [
    {
     "name": "stdout",
     "output_type": "stream",
     "text": [
      "Accuracy: 0.6576576576576577\n",
      "F1 Score: 0.6675475475475475\n",
      "Recall: 0.6576576576576577\n"
     ]
    }
   ],
   "source": [
    "# Оценка качества модели\n",
    "accuracy = accuracy_score(y_test, y_pred)\n",
    "f1 = f1_score(y_test, y_pred, average='weighted')\n",
    "recall = recall_score(y_test, y_pred, average='weighted')\n",
    "\n",
    "print(f\"Accuracy: {accuracy}\")\n",
    "print(f\"F1 Score: {f1}\")\n",
    "print(f\"Recall: {recall}\")"
   ]
  },
  {
   "cell_type": "code",
   "execution_count": 14,
   "metadata": {},
   "outputs": [
    {
     "data": {
      "image/png": "[encoded data removed]",
      "text/plain": [
       "<Figure size 600x600 with 1 Axes>"
      ]
     },
     "metadata": {},
     "output_type": "display_data"
    }
   ],
   "source": [
    "conf_matrix = confusion_matrix(y_test, y_pred)\n",
    "\n",
    "plt.figure(figsize=(6, 6))\n",
    "sns.heatmap(conf_matrix, annot=True, fmt='d', cmap='Blues', cbar=False,\n",
    "            xticklabels=['С амилоидозом', 'Без амилоидоза'],\n",
    "            yticklabels=['С амилоидозом', 'Без амилоидоза'])\n",
    "plt.xlabel('Предсказанный класс')\n",
    "plt.ylabel('Истинный класс')\n",
    "plt.title('Матрица ошибок')\n",
    "plt.show()\n"
   ]
  }
 ],
 "metadata": {
  "kernelspec": {
   "display_name": "Python 3",
   "language": "python",
   "name": "python3"
  },
  "language_info": {
   "codemirror_mode": {
    "name": "ipython",
    "version": 3
   },
   "file_extension": ".py",
   "mimetype": "text/x-python",
   "name": "python",
   "nbconvert_exporter": "python",
   "pygments_lexer": "ipython3",
   "version": "3.11.9"
  }
 },
 "nbformat": 4,
 "nbformat_minor": 2
}
