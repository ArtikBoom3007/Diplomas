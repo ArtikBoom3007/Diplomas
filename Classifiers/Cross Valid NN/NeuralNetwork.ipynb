{
 "cells": [
  {
   "cell_type": "code",
   "execution_count": 1,
   "metadata": {},
   "outputs": [],
   "source": [
    "import os\n",
    "import sys\n",
    "\n",
    "script_path = os.path.join(os.getcwd(), \"../../Scripts/\")\n",
    "sys.path.append(script_path)\n",
    "import data_generator as dgen\n",
    "import random\n",
    "\n",
    "\n",
    "import matplotlib.pyplot as plt\n",
    "\n",
    "import torch\n",
    "import numpy as np\n",
    "import yaml\n",
    "import torch.nn.functional as F\n",
    "import torch.nn as nn\n",
    "from torch.utils.data import Dataset, DataLoader, WeightedRandomSampler, Subset\n",
    "from sklearn.metrics import (\n",
    "    classification_report,\n",
    "    ConfusionMatrixDisplay,\n",
    "    confusion_matrix,\n",
    ")\n",
    "from sklearn.model_selection import StratifiedKFold\n",
    "from sklearn.metrics import recall_score, accuracy_score, precision_score\n",
    "\n",
    "import mlflow\n",
    "from clearml import Task, Logger"
   ]
  },
  {
   "cell_type": "markdown",
   "metadata": {},
   "source": [
    "# Создаем таску в clearML"
   ]
  },
  {
   "cell_type": "code",
   "execution_count": null,
   "metadata": {},
   "outputs": [
    {
     "name": "stdout",
     "output_type": "stream",
     "text": [
      "ClearML Task: created new task id=d078c842e5bc4b9a9a423f5de92f2f1c\n",
      "2024-12-10 10:07:07,612 - clearml.Task - INFO - Storing jupyter notebook directly as code\n",
      "ClearML results page: https://app.clear.ml/projects/f33335d281d54e9c8db00a9b65fe11ab/experiments/d078c842e5bc4b9a9a423f5de92f2f1c/output/log\n"
     ]
    }
   ],
   "source": [
    "import uuid\n",
    "\n",
    "run_name = f\"Run-{uuid.uuid4().hex[:8]}\"\n",
    "\n",
    "task = Task.init(\n",
    "    project_name=\"Diploma Multibranch net/Fraction\",\n",
    "    task_name=run_name,\n",
    "    task_type=Task.TaskTypes.training,\n",
    ")\n",
    "\n",
    "task.set_system_tags([\"gpu_monitoring\"])"
   ]
  },
  {
   "cell_type": "code",
   "execution_count": 3,
   "metadata": {},
   "outputs": [],
   "source": [
    "# Фиксация случайных генераторов для воспроизводимости\n",
    "SEED = 42\n",
    "torch.manual_seed(SEED)\n",
    "np.random.seed(SEED)\n",
    "random.seed(SEED)\n",
    "if torch.cuda.is_available():\n",
    "    torch.cuda.manual_seed(SEED)\n",
    "    torch.cuda.manual_seed_all(SEED)\n",
    "\n",
    "k_folds = 3\n",
    "batch_size = 8"
   ]
  },
  {
   "cell_type": "code",
   "execution_count": 13,
   "metadata": {},
   "outputs": [
    {
     "name": "stdout",
     "output_type": "stream",
     "text": [
      "(25908, 8, 5000)\n",
      "(25908,)\n"
     ]
    }
   ],
   "source": [
    "# Примерная функция для нормализации\n",
    "def normalize(signal):\n",
    "    return (signal - np.mean(signal)) / np.std(signal)\n",
    "\n",
    "\n",
    "# Класс для подготовки датасета\n",
    "class ECGDataset(Dataset):\n",
    "    def __init__(self, data, labels):\n",
    "        self.data = data\n",
    "        self.labels = labels\n",
    "        self.fixed_length = 5000  # Пример длины для padding\n",
    "\n",
    "    def __len__(self):\n",
    "        return len(self.data)\n",
    "\n",
    "    def __getitem__(self, idx):\n",
    "        # Берем данные пациента\n",
    "        ecg_signal = self.data[idx]\n",
    "\n",
    "        # Применяем нормализацию к каждому каналу\n",
    "        ecg_signal = np.array([normalize(ch) for ch in ecg_signal])\n",
    "\n",
    "        # Padding/Truncation до фиксированной длины\n",
    "        ecg_signal = self._fix_length(ecg_signal)\n",
    "\n",
    "        # Преобразование в torch.tensor\n",
    "        ecg_signal = torch.tensor(ecg_signal, dtype=torch.float32)\n",
    "        label = torch.tensor(self.labels[idx], dtype=torch.long)\n",
    "\n",
    "        return ecg_signal, label\n",
    "\n",
    "    def _fix_length(self, ecg_signal):\n",
    "        # Применяем padding или обрезание\n",
    "        if ecg_signal.shape[1] < self.fixed_length:\n",
    "            pad_size = self.fixed_length - ecg_signal.shape[1]\n",
    "            ecg_signal = np.pad(ecg_signal, ((0, 0), (0, pad_size)), \"constant\")\n",
    "        else:\n",
    "            ecg_signal = ecg_signal[:, : self.fixed_length]\n",
    "        return ecg_signal\n",
    "\n",
    "\n",
    "def create_weighted_sampler(labels):\n",
    "    class_counts = torch.bincount(labels)\n",
    "    class_weights = 1.0 / class_counts.float()\n",
    "    sample_weights = class_weights[labels]\n",
    "    sampler = WeightedRandomSampler(\n",
    "        weights=sample_weights, num_samples=len(labels), replacement=True\n",
    "    )\n",
    "    return sampler\n",
    "\n",
    "\n",
    "# dgen.init()\n",
    "\n",
    "# amy, amyc, norm, amy_h, amyc_h, norm_h = dgen.read_data_with_meta()\n",
    "\n",
    "# X = norm + amyc + amy\n",
    "# y = np.concatenate([np.zeros(len(norm) + len(amyc)), np.ones(len(amy))])\n",
    "\n",
    "import pickle\n",
    "\n",
    "with open(\"../../Data/dumped/X_train.pkl\", \"rb\") as f:\n",
    "    f.seek(0)\n",
    "    X_train = pickle.load(f)\n",
    "with open(\"../../Data/dumped/y_train.pkl\", \"rb\") as f:\n",
    "    f.seek(0)\n",
    "    y_train = pickle.load(f)\n",
    "with open(\"../../Data/dumped/X_test.pkl\", \"rb\") as f:\n",
    "    f.seek(0)\n",
    "    X_test = pickle.load(f)\n",
    "with open(\"../../Data/dumped/y_test.pkl\", \"rb\") as f:\n",
    "    f.seek(0)\n",
    "    y_test = pickle.load(f)\n",
    "\n",
    "print(X_train.shape)\n",
    "print(y_train.shape)\n",
    "# y_train = np.concatenate([y_train, y_train], axis=1)\n",
    "Y_train = y_train.astype(\"int8\")\n",
    "Y_test = y_test.astype(\"int8\")\n",
    "\n",
    "# Y_train = F.one_hot(torch.LongTensor(y_train[0]), num_classes=2).double()\n",
    "# Y_train.double()\n",
    "# Y_test = F.one_hot(torch.LongTensor(y_test[0]), num_classes=2).double()\n",
    "# Y_test.double()\n",
    "# Y_train = y_train[0]\n",
    "# Y_test = y_test[0]"
   ]
  },
  {
   "cell_type": "code",
   "execution_count": 14,
   "metadata": {},
   "outputs": [],
   "source": [
    "# Создаём KFold\n",
    "skf = StratifiedKFold(n_splits=k_folds, shuffle=True, random_state=SEED)\n",
    "\n",
    "# Лог для итогов по фолдам\n",
    "fold_results = []"
   ]
  },
  {
   "cell_type": "markdown",
   "metadata": {},
   "source": [
    "# Генерируем yaml"
   ]
  },
  {
   "cell_type": "code",
   "execution_count": 15,
   "metadata": {},
   "outputs": [],
   "source": [
    "# unique_train, counts_train = np.unique(Y_train, return_counts=True)\n",
    "# unique_test, counts_test = np.unique(Y_test, return_counts=True)\n",
    "# train_dict = dict(zip(unique_train, counts_train))\n",
    "# test_dict = dict(zip(unique_test, counts_test))\n",
    "\n",
    "# Определяем конфигурацию\n",
    "config = {\n",
    "    \"model\": {\n",
    "        \"architecture\": \"MultiBranchECGNet\",\n",
    "        \"num_channels\": 8,\n",
    "        \"num_classes\": 2,\n",
    "        \"parameters\": {\"learning_rate\": 0.001, \"dropout_rate\": 0.1},\n",
    "    },\n",
    "    \"optimizer\": {\"type\": \"Adam\", \"parameters\": {\"lr\": 0.0001, \"weight_decay\": 1e-6}},\n",
    "    \"loss_function\": {\n",
    "        \"type\": \"BCEWithLogitsLoss\",\n",
    "        \"parameters\": {\"alpha\": 1.0, \"gamma\": 1, \"pos_weight\": [1, 4]},\n",
    "    },\n",
    "    \"dataset\": {\n",
    "        \"train_size\": 0,\n",
    "        \"test_size\": 0,\n",
    "        # \"class_distribution\": {\n",
    "        #     \"train\": {0: int(train_dict[0]), 1: int(train_dict[1])},\n",
    "        #     \"test\": {0: int(test_dict[0]), 1: int(test_dict[1])},\n",
    "        # },\n",
    "    },\n",
    "    \"augmentations\": {\"noise_level\": 0.04, \"shift_range\": 0.2, \"mask_prob\": 0.3},\n",
    "}\n",
    "\n",
    "# Сохраняем в файл\n",
    "with open(\"config.yaml\", \"w\") as f:\n",
    "    yaml.dump(config, f)"
   ]
  },
  {
   "cell_type": "code",
   "execution_count": 16,
   "metadata": {},
   "outputs": [],
   "source": [
    "class ECGDataAugmentation:\n",
    "    def __init__(self, noise_level=0.01, shift_range=0.1, mask_prob=0.1):\n",
    "        \"\"\"\n",
    "        Аргументы:\n",
    "        noise_level (float): Уровень шума, добавляемого к сигналу.\n",
    "        shift_range (float): Максимальный сдвиг сигнала, выраженный в доле от длины.\n",
    "        mask_prob (float): Вероятность маскирования случайных интервалов.\n",
    "        \"\"\"\n",
    "        self.noise_level = noise_level\n",
    "        self.shift_range = shift_range\n",
    "        self.mask_prob = mask_prob\n",
    "\n",
    "    def add_noise(self, signal):\n",
    "        \"\"\"Добавляем гауссовский шум к сигналу.\"\"\"\n",
    "        noise = torch.randn_like(signal) * self.noise_level\n",
    "        return signal + noise\n",
    "\n",
    "    def shift_signal(self, signal):\n",
    "        \"\"\"Сдвигаем сигнал на случайное значение в пределах shift_range.\"\"\"\n",
    "        shift_amount = int(self.shift_range * signal.size(-1))\n",
    "        shift = np.random.randint(-shift_amount, shift_amount)\n",
    "        return torch.roll(signal, shifts=shift, dims=-1)\n",
    "\n",
    "    def mask_random_intervals(self, signal):\n",
    "        \"\"\"Маскируем случайные интервалы в сигнале, заменяя их на нули.\"\"\"\n",
    "        mask = torch.rand(signal.size()) < self.mask_prob\n",
    "        signal = signal.masked_fill(mask, 0)\n",
    "        return signal\n",
    "\n",
    "    def __call__(self, signal):\n",
    "        \"\"\"Применяем все аугментации.\"\"\"\n",
    "        signal = self.add_noise(signal)\n",
    "        signal = self.shift_signal(signal)\n",
    "        signal = self.mask_random_intervals(signal)\n",
    "        return signal\n",
    "\n",
    "\n",
    "data_augmentation = ECGDataAugmentation(\n",
    "    noise_level=config[\"augmentations\"][\"noise_level\"],\n",
    "    shift_range=config[\"augmentations\"][\"shift_range\"],\n",
    "    mask_prob=config[\"augmentations\"][\"mask_prob\"],\n",
    ")"
   ]
  },
  {
   "cell_type": "code",
   "execution_count": 17,
   "metadata": {},
   "outputs": [
    {
     "name": "stdout",
     "output_type": "stream",
     "text": [
      "(25908, 8, 5000)\n",
      "(25908,)\n"
     ]
    }
   ],
   "source": [
    "# X_train = np.concatenate(\n",
    "#     [X_train, np.array([data_augmentation(torch.tensor(x)).numpy() for x in X_train])],\n",
    "#     axis=0,\n",
    "# )\n",
    "dataset = ECGDataset(X_train, Y_train)\n",
    "\n",
    "print(X_train.shape)\n",
    "print(Y_train.shape)"
   ]
  },
  {
   "cell_type": "code",
   "execution_count": 18,
   "metadata": {},
   "outputs": [],
   "source": [
    "class MultiBranchECGNet(nn.Module):\n",
    "    def __init__(self, num_channels=8, num_classes=3):\n",
    "        super(MultiBranchECGNet, self).__init__()\n",
    "\n",
    "        # Ветви для каждого канала (CNN)\n",
    "        self.branches = nn.ModuleList(\n",
    "            [self.create_branch() for _ in range(num_channels)]\n",
    "        )\n",
    "\n",
    "        # Attention слой для агрегации информации между каналами\n",
    "        self.attention = nn.MultiheadAttention(\n",
    "            embed_dim=128, num_heads=8, batch_first=True\n",
    "        )\n",
    "\n",
    "        # Линейный слой для выравнивания размерности перед attention\n",
    "        self.linear_attn = nn.Linear(num_channels * 128, 128)\n",
    "\n",
    "        # Полносвязные слои для классификации\n",
    "        self.fc1 = nn.Linear(128, 256)\n",
    "        self.fc2 = nn.Linear(256, num_classes)\n",
    "        self.drop = nn.Dropout(p=config[\"model\"][\"parameters\"][\"dropout_rate\"])\n",
    "\n",
    "    def create_branch(self):\n",
    "        \"\"\"Создаем сверточную ветвь для каждого канала\"\"\"\n",
    "        branch = nn.Sequential(\n",
    "            nn.Conv1d(1, 32, kernel_size=7, padding=3),  # Свертка с padding\n",
    "            nn.BatchNorm1d(32),\n",
    "            nn.ReLU(),\n",
    "            nn.MaxPool1d(2),\n",
    "            nn.Conv1d(32, 64, kernel_size=5, padding=2),  # Вторая сверточная операция\n",
    "            nn.BatchNorm1d(64),\n",
    "            nn.ReLU(),\n",
    "            nn.MaxPool1d(2),\n",
    "            nn.Conv1d(64, 128, kernel_size=3, padding=1),  # Третья сверточная операция\n",
    "            nn.BatchNorm1d(128),\n",
    "            nn.ReLU(),\n",
    "            nn.MaxPool1d(2),\n",
    "        )\n",
    "        return branch\n",
    "\n",
    "    def forward(self, x):\n",
    "        # x shape: [batch_size, num_channels, seq_len]\n",
    "\n",
    "        # Обрабатываем каждый канал через свою ветвь (CNN для каждого канала)\n",
    "        branch_outputs = []\n",
    "        for i in range(x.size(1)):  # num_channels\n",
    "            branch_output = self.branches[i](\n",
    "                x[:, i : i + 1, :]\n",
    "            )  # Обрабатываем i-й канал, [batch_size, 1, seq_len]\n",
    "            branch_outputs.append(branch_output)\n",
    "\n",
    "        # Объединяем выходы ветвей\n",
    "        out = torch.stack(\n",
    "            branch_outputs, dim=1\n",
    "        )  # [batch_size, num_channels, 128, reduced_seq_len]\n",
    "\n",
    "        # out = out.mean(dim=-1)  # Усредняем по временной оси: [batch_size, num_channels, 128]\n",
    "\n",
    "        # # Применяем multi-head attention для межканальной агрегации\n",
    "        # out, _ = self.attention(out, out, out)  # [batch_size, num_channels, 128]\n",
    "\n",
    "        # # Flatten the output\n",
    "        # out = torch.flatten(out, start_dim=1, end_dim=2)  # [batch_size, num_channels * 128]\n",
    "\n",
    "        # Меняем форму, чтобы соответствовать входу MultiheadAttention: [batch_size, reduced_seq_len, num_channels * 128]\n",
    "        batch_size, num_channels, embed_dim, seq_len = out.shape\n",
    "        out = out.permute(0, 3, 1, 2).reshape(batch_size, seq_len, -1)\n",
    "\n",
    "        out = F.relu(self.linear_attn(out))\n",
    "\n",
    "        # Применяем Multihead Attention ко всей последовательности\n",
    "        out, _ = self.attention(\n",
    "            out, out, out\n",
    "        )  # [batch_size, seq_len, num_channels * 128]\n",
    "\n",
    "        # Усредняем по временной оси\n",
    "        out = out.mean(dim=1)  # [batch_size, num_channels * 128]\n",
    "\n",
    "        # Полносвязные слои для классификации\n",
    "        out = F.relu(self.drop(self.fc1(out)))\n",
    "        out = self.fc2(out)  # [batch_size, num_classes]\n",
    "        return out\n",
    "\n",
    "\n",
    "# Пример использования\n",
    "model = MultiBranchECGNet(num_channels=8, num_classes=2)"
   ]
  },
  {
   "cell_type": "code",
   "execution_count": 19,
   "metadata": {},
   "outputs": [],
   "source": [
    "class FocalLoss(nn.Module):\n",
    "    def __init__(self, alpha=1, gamma=2, reduction=\"mean\"):\n",
    "        super(FocalLoss, self).__init__()\n",
    "        self.alpha = alpha\n",
    "        self.gamma = gamma\n",
    "        self.reduction = reduction\n",
    "\n",
    "    def forward(self, inputs, targets):\n",
    "        BCE_loss = F.binary_cross_entropy_with_logits(inputs, targets, reduction=\"none\")\n",
    "        pt = torch.exp(-BCE_loss)\n",
    "        focal_loss = self.alpha * (1 - pt) ** self.gamma * BCE_loss\n",
    "        if self.reduction == \"mean\":\n",
    "            return focal_loss.mean()\n",
    "        elif self.reduction == \"sum\":\n",
    "            return focal_loss.sum()\n",
    "        else:\n",
    "            return focal_loss"
   ]
  },
  {
   "cell_type": "code",
   "execution_count": 11,
   "metadata": {},
   "outputs": [
    {
     "data": {
      "text/plain": [
       "<ActiveRun: >"
      ]
     },
     "execution_count": 11,
     "metadata": {},
     "output_type": "execute_result"
    }
   ],
   "source": [
    "mlflow.start_run()"
   ]
  },
  {
   "cell_type": "code",
   "execution_count": 20,
   "metadata": {},
   "outputs": [
    {
     "name": "stderr",
     "output_type": "stream",
     "text": [
      "/home/kravchenko.artem/Projects/Diplomas/.venv/lib/python3.10/site-packages/numpy/_core/fromnumeric.py:3904: RuntimeWarning:\n",
      "\n",
      "Mean of empty slice.\n",
      "\n",
      "/home/kravchenko.artem/Projects/Diplomas/.venv/lib/python3.10/site-packages/numpy/_core/_methods.py:147: RuntimeWarning:\n",
      "\n",
      "invalid value encountered in scalar divide\n",
      "\n"
     ]
    },
    {
     "name": "stdout",
     "output_type": "stream",
     "text": [
      "Cross-Validation Results: Average Loss: nan, Average Accuracy: nan\n",
      "FOLD 1\n",
      "------------------------------\n"
     ]
    },
    {
     "name": "stderr",
     "output_type": "stream",
     "text": [
      "/home/kravchenko.artem/Projects/Diplomas/.venv/lib/python3.10/site-packages/numpy/_core/_methods.py:208: RuntimeWarning:\n",
      "\n",
      "overflow encountered in reduce\n",
      "\n",
      "/home/kravchenko.artem/Projects/Diplomas/.venv/lib/python3.10/site-packages/numpy/_core/_methods.py:208: RuntimeWarning:\n",
      "\n",
      "overflow encountered in reduce\n",
      "\n"
     ]
    },
    {
     "name": "stdout",
     "output_type": "stream",
     "text": [
      "Epoch 1/30, Train Loss: 0.5888\n",
      "Validation Loss: 0.5888, Accuracy: 0.7734,  Precision: 0.2626,  Recall: 0.9380\n"
     ]
    },
    {
     "name": "stderr",
     "output_type": "stream",
     "text": [
      "/home/kravchenko.artem/Projects/Diplomas/.venv/lib/python3.10/site-packages/numpy/_core/_methods.py:208: RuntimeWarning:\n",
      "\n",
      "overflow encountered in reduce\n",
      "\n"
     ]
    },
    {
     "name": "stdout",
     "output_type": "stream",
     "text": [
      "ClearML Monitor: Could not detect iteration reporting, falling back to iterations as seconds-from-start\n"
     ]
    },
    {
     "name": "stdout",
     "output_type": "stream",
     "text": [
      "Epoch 2/30, Train Loss: 0.4189\n",
      "Validation Loss: 0.4193, Accuracy: 0.8560,  Precision: 0.3528,  Recall: 0.8554\n"
     ]
    },
    {
     "name": "stderr",
     "output_type": "stream",
     "text": [
      "/home/kravchenko.artem/Projects/Diplomas/.venv/lib/python3.10/site-packages/numpy/_core/_methods.py:208: RuntimeWarning:\n",
      "\n",
      "overflow encountered in reduce\n",
      "\n"
     ]
    },
    {
     "name": "stdout",
     "output_type": "stream",
     "text": [
      "Epoch 3/30, Train Loss: 0.3479\n",
      "Validation Loss: 0.2956, Accuracy: 0.8923,  Precision: 0.4263,  Recall: 0.8127\n"
     ]
    },
    {
     "name": "stderr",
     "output_type": "stream",
     "text": [
      "/home/kravchenko.artem/Projects/Diplomas/.venv/lib/python3.10/site-packages/numpy/_core/_methods.py:208: RuntimeWarning:\n",
      "\n",
      "overflow encountered in reduce\n",
      "\n"
     ]
    },
    {
     "name": "stdout",
     "output_type": "stream",
     "text": [
      "Epoch 4/30, Train Loss: 0.2950\n",
      "Validation Loss: 0.6449, Accuracy: 0.7580,  Precision: 0.2541,  Recall: 0.9711\n"
     ]
    },
    {
     "name": "stderr",
     "output_type": "stream",
     "text": [
      "/home/kravchenko.artem/Projects/Diplomas/.venv/lib/python3.10/site-packages/numpy/_core/_methods.py:208: RuntimeWarning:\n",
      "\n",
      "overflow encountered in reduce\n",
      "\n"
     ]
    },
    {
     "name": "stdout",
     "output_type": "stream",
     "text": [
      "Epoch 5/30, Train Loss: 0.2551\n",
      "Validation Loss: 0.3094, Accuracy: 0.9084,  Precision: 0.4734,  Recall: 0.7961\n"
     ]
    },
    {
     "name": "stderr",
     "output_type": "stream",
     "text": [
      "/home/kravchenko.artem/Projects/Diplomas/.venv/lib/python3.10/site-packages/numpy/_core/_methods.py:208: RuntimeWarning:\n",
      "\n",
      "overflow encountered in reduce\n",
      "\n"
     ]
    },
    {
     "name": "stdout",
     "output_type": "stream",
     "text": [
      "Epoch 6/30, Train Loss: 0.2187\n",
      "Validation Loss: 0.3516, Accuracy: 0.8874,  Precision: 0.4174,  Recall: 0.8567\n"
     ]
    },
    {
     "name": "stderr",
     "output_type": "stream",
     "text": [
      "/home/kravchenko.artem/Projects/Diplomas/.venv/lib/python3.10/site-packages/numpy/_core/_methods.py:208: RuntimeWarning:\n",
      "\n",
      "overflow encountered in reduce\n",
      "\n"
     ]
    },
    {
     "name": "stdout",
     "output_type": "stream",
     "text": [
      "Epoch 7/30, Train Loss: 0.1902\n",
      "Validation Loss: 0.3633, Accuracy: 0.9128,  Precision: 0.4885,  Recall: 0.7934\n"
     ]
    },
    {
     "name": "stderr",
     "output_type": "stream",
     "text": [
      "/home/kravchenko.artem/Projects/Diplomas/.venv/lib/python3.10/site-packages/numpy/_core/_methods.py:208: RuntimeWarning:\n",
      "\n",
      "overflow encountered in reduce\n",
      "\n"
     ]
    },
    {
     "name": "stdout",
     "output_type": "stream",
     "text": [
      "Epoch 8/30, Train Loss: 0.1801\n",
      "Validation Loss: 0.3413, Accuracy: 0.8951,  Precision: 0.4393,  Recall: 0.8967\n"
     ]
    },
    {
     "name": "stderr",
     "output_type": "stream",
     "text": [
      "/home/kravchenko.artem/Projects/Diplomas/.venv/lib/python3.10/site-packages/numpy/_core/_methods.py:208: RuntimeWarning:\n",
      "\n",
      "overflow encountered in reduce\n",
      "\n"
     ]
    },
    {
     "name": "stdout",
     "output_type": "stream",
     "text": [
      "Epoch 9/30, Train Loss: 0.1547\n",
      "Validation Loss: 0.3117, Accuracy: 0.9162,  Precision: 0.5008,  Recall: 0.8251\n"
     ]
    },
    {
     "name": "stderr",
     "output_type": "stream",
     "text": [
      "/home/kravchenko.artem/Projects/Diplomas/.venv/lib/python3.10/site-packages/numpy/_core/_methods.py:208: RuntimeWarning:\n",
      "\n",
      "overflow encountered in reduce\n",
      "\n"
     ]
    },
    {
     "name": "stdout",
     "output_type": "stream",
     "text": [
      "Epoch 10/30, Train Loss: 0.1548\n",
      "Validation Loss: 0.3164, Accuracy: 0.9136,  Precision: 0.4917,  Recall: 0.8196\n"
     ]
    },
    {
     "name": "stderr",
     "output_type": "stream",
     "text": [
      "/home/kravchenko.artem/Projects/Diplomas/.venv/lib/python3.10/site-packages/numpy/_core/_methods.py:208: RuntimeWarning:\n",
      "\n",
      "overflow encountered in reduce\n",
      "\n"
     ]
    },
    {
     "name": "stdout",
     "output_type": "stream",
     "text": [
      "Epoch 11/30, Train Loss: 0.1372\n",
      "Validation Loss: 0.3434, Accuracy: 0.9067,  Precision: 0.4705,  Recall: 0.8774\n"
     ]
    },
    {
     "name": "stderr",
     "output_type": "stream",
     "text": [
      "/home/kravchenko.artem/Projects/Diplomas/.venv/lib/python3.10/site-packages/numpy/_core/_methods.py:208: RuntimeWarning:\n",
      "\n",
      "overflow encountered in reduce\n",
      "\n"
     ]
    },
    {
     "name": "stdout",
     "output_type": "stream",
     "text": [
      "Epoch 12/30, Train Loss: 0.1239\n",
      "Validation Loss: 0.3853, Accuracy: 0.9048,  Precision: 0.4634,  Recall: 0.8375\n"
     ]
    },
    {
     "name": "stderr",
     "output_type": "stream",
     "text": [
      "/home/kravchenko.artem/Projects/Diplomas/.venv/lib/python3.10/site-packages/numpy/_core/_methods.py:208: RuntimeWarning:\n",
      "\n",
      "overflow encountered in reduce\n",
      "\n"
     ]
    },
    {
     "name": "stdout",
     "output_type": "stream",
     "text": [
      "Epoch 13/30, Train Loss: 0.1118\n",
      "Validation Loss: 0.4192, Accuracy: 0.9261,  Precision: 0.5438,  Recall: 0.7521\n"
     ]
    },
    {
     "name": "stderr",
     "output_type": "stream",
     "text": [
      "/home/kravchenko.artem/Projects/Diplomas/.venv/lib/python3.10/site-packages/numpy/_core/_methods.py:208: RuntimeWarning:\n",
      "\n",
      "overflow encountered in reduce\n",
      "\n"
     ]
    },
    {
     "name": "stdout",
     "output_type": "stream",
     "text": [
      "Epoch 14/30, Train Loss: 0.1065\n",
      "Validation Loss: 0.3858, Accuracy: 0.9290,  Precision: 0.5558,  Recall: 0.7755\n"
     ]
    },
    {
     "name": "stderr",
     "output_type": "stream",
     "text": [
      "/home/kravchenko.artem/Projects/Diplomas/.venv/lib/python3.10/site-packages/numpy/_core/_methods.py:208: RuntimeWarning:\n",
      "\n",
      "overflow encountered in reduce\n",
      "\n"
     ]
    },
    {
     "name": "stdout",
     "output_type": "stream",
     "text": [
      "Epoch 15/30, Train Loss: 0.0956\n",
      "Validation Loss: 0.3727, Accuracy: 0.9261,  Precision: 0.5406,  Recall: 0.8072\n"
     ]
    },
    {
     "name": "stderr",
     "output_type": "stream",
     "text": [
      "/home/kravchenko.artem/Projects/Diplomas/.venv/lib/python3.10/site-packages/numpy/_core/_methods.py:208: RuntimeWarning:\n",
      "\n",
      "overflow encountered in reduce\n",
      "\n"
     ]
    },
    {
     "name": "stdout",
     "output_type": "stream",
     "text": [
      "Epoch 16/30, Train Loss: 0.0873\n",
      "Validation Loss: 0.4006, Accuracy: 0.9348,  Precision: 0.5846,  Recall: 0.7755\n"
     ]
    },
    {
     "name": "stderr",
     "output_type": "stream",
     "text": [
      "/home/kravchenko.artem/Projects/Diplomas/.venv/lib/python3.10/site-packages/numpy/_core/_methods.py:208: RuntimeWarning:\n",
      "\n",
      "overflow encountered in reduce\n",
      "\n"
     ]
    },
    {
     "name": "stdout",
     "output_type": "stream",
     "text": [
      "Epoch 17/30, Train Loss: 0.0822\n",
      "Validation Loss: 0.4049, Accuracy: 0.9136,  Precision: 0.4921,  Recall: 0.8609\n"
     ]
    },
    {
     "name": "stderr",
     "output_type": "stream",
     "text": [
      "/home/kravchenko.artem/Projects/Diplomas/.venv/lib/python3.10/site-packages/numpy/_core/_methods.py:208: RuntimeWarning:\n",
      "\n",
      "overflow encountered in reduce\n",
      "\n"
     ]
    },
    {
     "name": "stdout",
     "output_type": "stream",
     "text": [
      "Epoch 18/30, Train Loss: 0.0850\n",
      "Validation Loss: 0.3843, Accuracy: 0.9211,  Precision: 0.5193,  Recall: 0.8347\n"
     ]
    },
    {
     "name": "stderr",
     "output_type": "stream",
     "text": [
      "/home/kravchenko.artem/Projects/Diplomas/.venv/lib/python3.10/site-packages/numpy/_core/_methods.py:208: RuntimeWarning:\n",
      "\n",
      "overflow encountered in reduce\n",
      "\n"
     ]
    },
    {
     "name": "stdout",
     "output_type": "stream",
     "text": [
      "Epoch 19/30, Train Loss: 0.0689\n",
      "Validation Loss: 0.4330, Accuracy: 0.9302,  Precision: 0.5590,  Recall: 0.8030\n"
     ]
    },
    {
     "name": "stderr",
     "output_type": "stream",
     "text": [
      "/home/kravchenko.artem/Projects/Diplomas/.venv/lib/python3.10/site-packages/numpy/_core/_methods.py:208: RuntimeWarning:\n",
      "\n",
      "overflow encountered in reduce\n",
      "\n"
     ]
    },
    {
     "name": "stdout",
     "output_type": "stream",
     "text": [
      "Epoch 20/30, Train Loss: 0.0714\n",
      "Validation Loss: 0.3832, Accuracy: 0.9360,  Precision: 0.5891,  Recall: 0.7879\n"
     ]
    },
    {
     "name": "stderr",
     "output_type": "stream",
     "text": [
      "/home/kravchenko.artem/Projects/Diplomas/.venv/lib/python3.10/site-packages/numpy/_core/_methods.py:208: RuntimeWarning:\n",
      "\n",
      "overflow encountered in reduce\n",
      "\n"
     ]
    },
    {
     "name": "stdout",
     "output_type": "stream",
     "text": [
      "Epoch 21/30, Train Loss: 0.0633\n",
      "Validation Loss: 0.4259, Accuracy: 0.9443,  Precision: 0.6492,  Recall: 0.7342\n"
     ]
    },
    {
     "name": "stderr",
     "output_type": "stream",
     "text": [
      "/home/kravchenko.artem/Projects/Diplomas/.venv/lib/python3.10/site-packages/numpy/_core/_methods.py:208: RuntimeWarning:\n",
      "\n",
      "overflow encountered in reduce\n",
      "\n"
     ]
    },
    {
     "name": "stdout",
     "output_type": "stream",
     "text": [
      "Epoch 22/30, Train Loss: 0.0741\n",
      "Validation Loss: 0.4205, Accuracy: 0.9445,  Precision: 0.6561,  Recall: 0.7149\n"
     ]
    },
    {
     "name": "stderr",
     "output_type": "stream",
     "text": [
      "/home/kravchenko.artem/Projects/Diplomas/.venv/lib/python3.10/site-packages/numpy/_core/_methods.py:208: RuntimeWarning:\n",
      "\n",
      "overflow encountered in reduce\n",
      "\n"
     ]
    },
    {
     "name": "stdout",
     "output_type": "stream",
     "text": [
      "Epoch 23/30, Train Loss: 0.0575\n",
      "Validation Loss: 0.4470, Accuracy: 0.9418,  Precision: 0.6323,  Recall: 0.7342\n"
     ]
    },
    {
     "name": "stderr",
     "output_type": "stream",
     "text": [
      "/home/kravchenko.artem/Projects/Diplomas/.venv/lib/python3.10/site-packages/numpy/_core/_methods.py:208: RuntimeWarning:\n",
      "\n",
      "overflow encountered in reduce\n",
      "\n"
     ]
    },
    {
     "name": "stdout",
     "output_type": "stream",
     "text": [
      "Epoch 24/30, Train Loss: 0.0609\n",
      "Validation Loss: 0.4153, Accuracy: 0.9040,  Precision: 0.4606,  Recall: 0.8292\n"
     ]
    },
    {
     "name": "stderr",
     "output_type": "stream",
     "text": [
      "/home/kravchenko.artem/Projects/Diplomas/.venv/lib/python3.10/site-packages/numpy/_core/_methods.py:208: RuntimeWarning:\n",
      "\n",
      "overflow encountered in reduce\n",
      "\n"
     ]
    },
    {
     "name": "stdout",
     "output_type": "stream",
     "text": [
      "Epoch 25/30, Train Loss: 0.0571\n",
      "Validation Loss: 0.5213, Accuracy: 0.9494,  Precision: 0.7032,  Recall: 0.6887\n"
     ]
    },
    {
     "name": "stderr",
     "output_type": "stream",
     "text": [
      "/home/kravchenko.artem/Projects/Diplomas/.venv/lib/python3.10/site-packages/numpy/_core/_methods.py:208: RuntimeWarning:\n",
      "\n",
      "overflow encountered in reduce\n",
      "\n"
     ]
    },
    {
     "name": "stdout",
     "output_type": "stream",
     "text": [
      "Epoch 26/30, Train Loss: 0.0492\n",
      "Validation Loss: 0.4398, Accuracy: 0.9449,  Precision: 0.6649,  Recall: 0.6942\n"
     ]
    },
    {
     "name": "stderr",
     "output_type": "stream",
     "text": [
      "/home/kravchenko.artem/Projects/Diplomas/.venv/lib/python3.10/site-packages/numpy/_core/_methods.py:208: RuntimeWarning:\n",
      "\n",
      "overflow encountered in reduce\n",
      "\n"
     ]
    },
    {
     "name": "stdout",
     "output_type": "stream",
     "text": [
      "Epoch 27/30, Train Loss: 0.0491\n",
      "Validation Loss: 0.5455, Accuracy: 0.9171,  Precision: 0.5044,  Recall: 0.7934\n"
     ]
    },
    {
     "name": "stderr",
     "output_type": "stream",
     "text": [
      "/home/kravchenko.artem/Projects/Diplomas/.venv/lib/python3.10/site-packages/numpy/_core/_methods.py:208: RuntimeWarning:\n",
      "\n",
      "overflow encountered in reduce\n",
      "\n"
     ]
    },
    {
     "name": "stdout",
     "output_type": "stream",
     "text": [
      "Epoch 28/30, Train Loss: 0.0500\n",
      "Validation Loss: 0.4689, Accuracy: 0.9444,  Precision: 0.6475,  Recall: 0.7438\n"
     ]
    },
    {
     "name": "stderr",
     "output_type": "stream",
     "text": [
      "/home/kravchenko.artem/Projects/Diplomas/.venv/lib/python3.10/site-packages/numpy/_core/_methods.py:208: RuntimeWarning:\n",
      "\n",
      "overflow encountered in reduce\n",
      "\n"
     ]
    },
    {
     "name": "stdout",
     "output_type": "stream",
     "text": [
      "Epoch 29/30, Train Loss: 0.0454\n",
      "Validation Loss: 0.4128, Accuracy: 0.9294,  Precision: 0.5563,  Recall: 0.7893\n"
     ]
    },
    {
     "name": "stderr",
     "output_type": "stream",
     "text": [
      "/home/kravchenko.artem/Projects/Diplomas/.venv/lib/python3.10/site-packages/numpy/_core/_methods.py:208: RuntimeWarning:\n",
      "\n",
      "overflow encountered in reduce\n",
      "\n"
     ]
    },
    {
     "name": "stdout",
     "output_type": "stream",
     "text": [
      "Epoch 30/30, Train Loss: 0.0450\n",
      "Validation Loss: 0.3848, Accuracy: 0.9430,  Precision: 0.6272,  Recall: 0.7948\n",
      "Fold 1 completed. Best Validation Loss: 319.2942, Accuracy: 0.9430\n",
      "\n",
      "FOLD 2\n",
      "------------------------------\n"
     ]
    },
    {
     "name": "stderr",
     "output_type": "stream",
     "text": [
      "/home/kravchenko.artem/Projects/Diplomas/.venv/lib/python3.10/site-packages/numpy/_core/_methods.py:208: RuntimeWarning:\n",
      "\n",
      "overflow encountered in reduce\n",
      "\n"
     ]
    },
    {
     "name": "stdout",
     "output_type": "stream",
     "text": [
      "Epoch 1/30, Train Loss: 0.1691\n",
      "Validation Loss: 0.0855, Accuracy: 0.9697,  Precision: 0.7372,  Recall: 0.9931\n"
     ]
    },
    {
     "name": "stderr",
     "output_type": "stream",
     "text": [
      "/home/kravchenko.artem/Projects/Diplomas/.venv/lib/python3.10/site-packages/numpy/_core/_methods.py:208: RuntimeWarning:\n",
      "\n",
      "overflow encountered in reduce\n",
      "\n"
     ]
    },
    {
     "name": "stdout",
     "output_type": "stream",
     "text": [
      "Epoch 2/30, Train Loss: 0.1041\n",
      "Validation Loss: 0.1133, Accuracy: 0.9624,  Precision: 0.6933,  Recall: 0.9904\n"
     ]
    },
    {
     "name": "stderr",
     "output_type": "stream",
     "text": [
      "/home/kravchenko.artem/Projects/Diplomas/.venv/lib/python3.10/site-packages/numpy/_core/_methods.py:208: RuntimeWarning:\n",
      "\n",
      "overflow encountered in reduce\n",
      "\n"
     ]
    },
    {
     "name": "stdout",
     "output_type": "stream",
     "text": [
      "Epoch 3/30, Train Loss: 0.0770\n",
      "Validation Loss: 0.1538, Accuracy: 0.9502,  Precision: 0.6307,  Recall: 0.9835\n"
     ]
    },
    {
     "name": "stderr",
     "output_type": "stream",
     "text": [
      "/home/kravchenko.artem/Projects/Diplomas/.venv/lib/python3.10/site-packages/numpy/_core/_methods.py:208: RuntimeWarning:\n",
      "\n",
      "overflow encountered in reduce\n",
      "\n"
     ]
    },
    {
     "name": "stdout",
     "output_type": "stream",
     "text": [
      "Epoch 4/30, Train Loss: 0.0739\n",
      "Validation Loss: 0.1326, Accuracy: 0.9573,  Precision: 0.6651,  Recall: 0.9904\n"
     ]
    },
    {
     "name": "stderr",
     "output_type": "stream",
     "text": [
      "/home/kravchenko.artem/Projects/Diplomas/.venv/lib/python3.10/site-packages/numpy/_core/_methods.py:208: RuntimeWarning:\n",
      "\n",
      "overflow encountered in reduce\n",
      "\n"
     ]
    },
    {
     "name": "stdout",
     "output_type": "stream",
     "text": [
      "Epoch 5/30, Train Loss: 0.0662\n",
      "Validation Loss: 0.1658, Accuracy: 0.9475,  Precision: 0.6168,  Recall: 0.9931\n"
     ]
    },
    {
     "name": "stderr",
     "output_type": "stream",
     "text": [
      "/home/kravchenko.artem/Projects/Diplomas/.venv/lib/python3.10/site-packages/numpy/_core/_methods.py:208: RuntimeWarning:\n",
      "\n",
      "overflow encountered in reduce\n",
      "\n"
     ]
    },
    {
     "name": "stdout",
     "output_type": "stream",
     "text": [
      "Epoch 6/30, Train Loss: 0.0520\n",
      "Validation Loss: 0.1010, Accuracy: 0.9714,  Precision: 0.7595,  Recall: 0.9656\n"
     ]
    },
    {
     "name": "stderr",
     "output_type": "stream",
     "text": [
      "/home/kravchenko.artem/Projects/Diplomas/.venv/lib/python3.10/site-packages/numpy/_core/_methods.py:208: RuntimeWarning:\n",
      "\n",
      "overflow encountered in reduce\n",
      "\n"
     ]
    },
    {
     "name": "stdout",
     "output_type": "stream",
     "text": [
      "Epoch 7/30, Train Loss: 0.0539\n",
      "Validation Loss: 0.0968, Accuracy: 0.9739,  Precision: 0.7831,  Recall: 0.9545\n"
     ]
    },
    {
     "name": "stderr",
     "output_type": "stream",
     "text": [
      "/home/kravchenko.artem/Projects/Diplomas/.venv/lib/python3.10/site-packages/numpy/_core/_methods.py:208: RuntimeWarning:\n",
      "\n",
      "overflow encountered in reduce\n",
      "\n"
     ]
    },
    {
     "name": "stdout",
     "output_type": "stream",
     "text": [
      "Epoch 8/30, Train Loss: 0.0563\n",
      "Validation Loss: 0.1354, Accuracy: 0.9625,  Precision: 0.7030,  Recall: 0.9587\n"
     ]
    },
    {
     "name": "stderr",
     "output_type": "stream",
     "text": [
      "/home/kravchenko.artem/Projects/Diplomas/.venv/lib/python3.10/site-packages/numpy/_core/_methods.py:208: RuntimeWarning:\n",
      "\n",
      "overflow encountered in reduce\n",
      "\n"
     ]
    },
    {
     "name": "stdout",
     "output_type": "stream",
     "text": [
      "Epoch 9/30, Train Loss: 0.0424\n",
      "Validation Loss: 0.1108, Accuracy: 0.9760,  Precision: 0.8130,  Recall: 0.9284\n"
     ]
    },
    {
     "name": "stderr",
     "output_type": "stream",
     "text": [
      "/home/kravchenko.artem/Projects/Diplomas/.venv/lib/python3.10/site-packages/numpy/_core/_methods.py:208: RuntimeWarning:\n",
      "\n",
      "overflow encountered in reduce\n",
      "\n"
     ]
    },
    {
     "name": "stdout",
     "output_type": "stream",
     "text": [
      "Epoch 10/30, Train Loss: 0.0473\n",
      "Validation Loss: 0.1254, Accuracy: 0.9643,  Precision: 0.7133,  Recall: 0.9628\n"
     ]
    },
    {
     "name": "stderr",
     "output_type": "stream",
     "text": [
      "/home/kravchenko.artem/Projects/Diplomas/.venv/lib/python3.10/site-packages/numpy/_core/_methods.py:208: RuntimeWarning:\n",
      "\n",
      "overflow encountered in reduce\n",
      "\n"
     ]
    },
    {
     "name": "stdout",
     "output_type": "stream",
     "text": [
      "Epoch 11/30, Train Loss: 0.0414\n",
      "Validation Loss: 0.1129, Accuracy: 0.9812,  Precision: 0.9075,  Recall: 0.8650\n"
     ]
    },
    {
     "name": "stderr",
     "output_type": "stream",
     "text": [
      "/home/kravchenko.artem/Projects/Diplomas/.venv/lib/python3.10/site-packages/numpy/_core/_methods.py:208: RuntimeWarning:\n",
      "\n",
      "overflow encountered in reduce\n",
      "\n"
     ]
    },
    {
     "name": "stdout",
     "output_type": "stream",
     "text": [
      "Epoch 12/30, Train Loss: 0.0417\n",
      "Validation Loss: 0.1057, Accuracy: 0.9794,  Precision: 0.8442,  Recall: 0.9256\n"
     ]
    },
    {
     "name": "stderr",
     "output_type": "stream",
     "text": [
      "/home/kravchenko.artem/Projects/Diplomas/.venv/lib/python3.10/site-packages/numpy/_core/_methods.py:208: RuntimeWarning:\n",
      "\n",
      "overflow encountered in reduce\n",
      "\n"
     ]
    },
    {
     "name": "stdout",
     "output_type": "stream",
     "text": [
      "Epoch 13/30, Train Loss: 0.0360\n",
      "Validation Loss: 0.1572, Accuracy: 0.9734,  Precision: 0.8092,  Recall: 0.8939\n"
     ]
    },
    {
     "name": "stderr",
     "output_type": "stream",
     "text": [
      "/home/kravchenko.artem/Projects/Diplomas/.venv/lib/python3.10/site-packages/numpy/_core/_methods.py:208: RuntimeWarning:\n",
      "\n",
      "overflow encountered in reduce\n",
      "\n"
     ]
    },
    {
     "name": "stdout",
     "output_type": "stream",
     "text": [
      "Epoch 14/30, Train Loss: 0.0392\n",
      "Validation Loss: 0.1266, Accuracy: 0.9741,  Precision: 0.8137,  Recall: 0.8967\n"
     ]
    },
    {
     "name": "stderr",
     "output_type": "stream",
     "text": [
      "/home/kravchenko.artem/Projects/Diplomas/.venv/lib/python3.10/site-packages/numpy/_core/_methods.py:208: RuntimeWarning:\n",
      "\n",
      "overflow encountered in reduce\n",
      "\n"
     ]
    },
    {
     "name": "stdout",
     "output_type": "stream",
     "text": [
      "Epoch 15/30, Train Loss: 0.0399\n",
      "Validation Loss: 0.1137, Accuracy: 0.9749,  Precision: 0.8005,  Recall: 0.9339\n"
     ]
    },
    {
     "name": "stderr",
     "output_type": "stream",
     "text": [
      "/home/kravchenko.artem/Projects/Diplomas/.venv/lib/python3.10/site-packages/numpy/_core/_methods.py:208: RuntimeWarning:\n",
      "\n",
      "overflow encountered in reduce\n",
      "\n"
     ]
    },
    {
     "name": "stdout",
     "output_type": "stream",
     "text": [
      "Epoch 16/30, Train Loss: 0.0381\n",
      "Validation Loss: 0.1950, Accuracy: 0.9481,  Precision: 0.6246,  Recall: 0.9601\n"
     ]
    },
    {
     "name": "stderr",
     "output_type": "stream",
     "text": [
      "/home/kravchenko.artem/Projects/Diplomas/.venv/lib/python3.10/site-packages/numpy/_core/_methods.py:208: RuntimeWarning:\n",
      "\n",
      "overflow encountered in reduce\n",
      "\n"
     ]
    },
    {
     "name": "stdout",
     "output_type": "stream",
     "text": [
      "Epoch 17/30, Train Loss: 0.0334\n",
      "Validation Loss: 0.1024, Accuracy: 0.9756,  Precision: 0.8084,  Recall: 0.9298\n"
     ]
    },
    {
     "name": "stderr",
     "output_type": "stream",
     "text": [
      "/home/kravchenko.artem/Projects/Diplomas/.venv/lib/python3.10/site-packages/numpy/_core/_methods.py:208: RuntimeWarning:\n",
      "\n",
      "overflow encountered in reduce\n",
      "\n"
     ]
    },
    {
     "name": "stdout",
     "output_type": "stream",
     "text": [
      "Epoch 18/30, Train Loss: 0.0295\n",
      "Validation Loss: 0.1157, Accuracy: 0.9737,  Precision: 0.8017,  Recall: 0.9132\n"
     ]
    },
    {
     "name": "stderr",
     "output_type": "stream",
     "text": [
      "/home/kravchenko.artem/Projects/Diplomas/.venv/lib/python3.10/site-packages/numpy/_core/_methods.py:208: RuntimeWarning:\n",
      "\n",
      "overflow encountered in reduce\n",
      "\n"
     ]
    },
    {
     "name": "stdout",
     "output_type": "stream",
     "text": [
      "Epoch 19/30, Train Loss: 0.0268\n",
      "Validation Loss: 0.1707, Accuracy: 0.9557,  Precision: 0.6632,  Recall: 0.9601\n"
     ]
    },
    {
     "name": "stderr",
     "output_type": "stream",
     "text": [
      "/home/kravchenko.artem/Projects/Diplomas/.venv/lib/python3.10/site-packages/numpy/_core/_methods.py:208: RuntimeWarning:\n",
      "\n",
      "overflow encountered in reduce\n",
      "\n"
     ]
    },
    {
     "name": "stdout",
     "output_type": "stream",
     "text": [
      "Epoch 20/30, Train Loss: 0.0280\n",
      "Validation Loss: 0.1421, Accuracy: 0.9719,  Precision: 0.7845,  Recall: 0.9174\n"
     ]
    },
    {
     "name": "stderr",
     "output_type": "stream",
     "text": [
      "/home/kravchenko.artem/Projects/Diplomas/.venv/lib/python3.10/site-packages/numpy/_core/_methods.py:208: RuntimeWarning:\n",
      "\n",
      "overflow encountered in reduce\n",
      "\n"
     ]
    },
    {
     "name": "stdout",
     "output_type": "stream",
     "text": [
      "Epoch 21/30, Train Loss: 0.0347\n",
      "Validation Loss: 0.1369, Accuracy: 0.9717,  Precision: 0.7932,  Recall: 0.8981\n"
     ]
    },
    {
     "name": "stderr",
     "output_type": "stream",
     "text": [
      "/home/kravchenko.artem/Projects/Diplomas/.venv/lib/python3.10/site-packages/numpy/_core/_methods.py:208: RuntimeWarning:\n",
      "\n",
      "overflow encountered in reduce\n",
      "\n"
     ]
    },
    {
     "name": "stdout",
     "output_type": "stream",
     "text": [
      "Epoch 22/30, Train Loss: 0.0252\n",
      "Validation Loss: 0.1788, Accuracy: 0.9626,  Precision: 0.7164,  Recall: 0.9187\n"
     ]
    },
    {
     "name": "stderr",
     "output_type": "stream",
     "text": [
      "/home/kravchenko.artem/Projects/Diplomas/.venv/lib/python3.10/site-packages/numpy/_core/_methods.py:208: RuntimeWarning:\n",
      "\n",
      "overflow encountered in reduce\n",
      "\n"
     ]
    },
    {
     "name": "stdout",
     "output_type": "stream",
     "text": [
      "Epoch 23/30, Train Loss: 0.0258\n",
      "Validation Loss: 0.1350, Accuracy: 0.9757,  Precision: 0.8193,  Recall: 0.9118\n"
     ]
    },
    {
     "name": "stderr",
     "output_type": "stream",
     "text": [
      "/home/kravchenko.artem/Projects/Diplomas/.venv/lib/python3.10/site-packages/numpy/_core/_methods.py:208: RuntimeWarning:\n",
      "\n",
      "overflow encountered in reduce\n",
      "\n"
     ]
    },
    {
     "name": "stdout",
     "output_type": "stream",
     "text": [
      "Epoch 24/30, Train Loss: 0.0288\n",
      "Validation Loss: 0.1456, Accuracy: 0.9726,  Precision: 0.7801,  Recall: 0.9380\n"
     ]
    },
    {
     "name": "stderr",
     "output_type": "stream",
     "text": [
      "/home/kravchenko.artem/Projects/Diplomas/.venv/lib/python3.10/site-packages/numpy/_core/_methods.py:208: RuntimeWarning:\n",
      "\n",
      "overflow encountered in reduce\n",
      "\n"
     ]
    },
    {
     "name": "stdout",
     "output_type": "stream",
     "text": [
      "Epoch 25/30, Train Loss: 0.0231\n",
      "Validation Loss: 0.1649, Accuracy: 0.9717,  Precision: 0.8138,  Recall: 0.8609\n"
     ]
    },
    {
     "name": "stderr",
     "output_type": "stream",
     "text": [
      "/home/kravchenko.artem/Projects/Diplomas/.venv/lib/python3.10/site-packages/numpy/_core/_methods.py:208: RuntimeWarning:\n",
      "\n",
      "overflow encountered in reduce\n",
      "\n"
     ]
    },
    {
     "name": "stdout",
     "output_type": "stream",
     "text": [
      "Epoch 26/30, Train Loss: 0.0223\n",
      "Validation Loss: 0.2014, Accuracy: 0.9731,  Precision: 0.8208,  Recall: 0.8705\n"
     ]
    },
    {
     "name": "stderr",
     "output_type": "stream",
     "text": [
      "/home/kravchenko.artem/Projects/Diplomas/.venv/lib/python3.10/site-packages/numpy/_core/_methods.py:208: RuntimeWarning:\n",
      "\n",
      "overflow encountered in reduce\n",
      "\n"
     ]
    },
    {
     "name": "stdout",
     "output_type": "stream",
     "text": [
      "Epoch 27/30, Train Loss: 0.0284\n",
      "Validation Loss: 0.2691, Accuracy: 0.9411,  Precision: 0.5914,  Recall: 0.9669\n"
     ]
    },
    {
     "name": "stderr",
     "output_type": "stream",
     "text": [
      "/home/kravchenko.artem/Projects/Diplomas/.venv/lib/python3.10/site-packages/numpy/_core/_methods.py:208: RuntimeWarning:\n",
      "\n",
      "overflow encountered in reduce\n",
      "\n"
     ]
    },
    {
     "name": "stdout",
     "output_type": "stream",
     "text": [
      "Epoch 28/30, Train Loss: 0.0204\n",
      "Validation Loss: 0.1412, Accuracy: 0.9787,  Precision: 0.8585,  Recall: 0.8939\n"
     ]
    },
    {
     "name": "stderr",
     "output_type": "stream",
     "text": [
      "/home/kravchenko.artem/Projects/Diplomas/.venv/lib/python3.10/site-packages/numpy/_core/_methods.py:208: RuntimeWarning:\n",
      "\n",
      "overflow encountered in reduce\n",
      "\n"
     ]
    },
    {
     "name": "stdout",
     "output_type": "stream",
     "text": [
      "Epoch 29/30, Train Loss: 0.0210\n",
      "Validation Loss: 0.1539, Accuracy: 0.9657,  Precision: 0.7292,  Recall: 0.9421\n"
     ]
    },
    {
     "name": "stderr",
     "output_type": "stream",
     "text": [
      "/home/kravchenko.artem/Projects/Diplomas/.venv/lib/python3.10/site-packages/numpy/_core/_methods.py:208: RuntimeWarning:\n",
      "\n",
      "overflow encountered in reduce\n",
      "\n"
     ]
    },
    {
     "name": "stdout",
     "output_type": "stream",
     "text": [
      "Epoch 30/30, Train Loss: 0.0274\n",
      "Validation Loss: 0.1723, Accuracy: 0.9618,  Precision: 0.7012,  Recall: 0.9504\n",
      "Fold 2 completed. Best Validation Loss: 92.3119, Accuracy: 0.9618\n",
      "\n",
      "FOLD 3\n",
      "------------------------------\n"
     ]
    },
    {
     "name": "stderr",
     "output_type": "stream",
     "text": [
      "/home/kravchenko.artem/Projects/Diplomas/.venv/lib/python3.10/site-packages/numpy/_core/_methods.py:208: RuntimeWarning:\n",
      "\n",
      "overflow encountered in reduce\n",
      "\n"
     ]
    },
    {
     "name": "stdout",
     "output_type": "stream",
     "text": [
      "Epoch 1/30, Train Loss: 0.0710\n",
      "Validation Loss: 0.0205, Accuracy: 0.9947,  Precision: 0.9427,  Recall: 0.9972\n"
     ]
    },
    {
     "name": "stderr",
     "output_type": "stream",
     "text": [
      "/home/kravchenko.artem/Projects/Diplomas/.venv/lib/python3.10/site-packages/numpy/_core/_methods.py:208: RuntimeWarning:\n",
      "\n",
      "overflow encountered in reduce\n",
      "\n"
     ]
    },
    {
     "name": "stdout",
     "output_type": "stream",
     "text": [
      "Epoch 2/30, Train Loss: 0.0399\n",
      "Validation Loss: 0.0376, Accuracy: 0.9876,  Precision: 0.8742,  Recall: 0.9959\n"
     ]
    },
    {
     "name": "stderr",
     "output_type": "stream",
     "text": [
      "/home/kravchenko.artem/Projects/Diplomas/.venv/lib/python3.10/site-packages/numpy/_core/_methods.py:208: RuntimeWarning:\n",
      "\n",
      "overflow encountered in reduce\n",
      "\n"
     ]
    },
    {
     "name": "stdout",
     "output_type": "stream",
     "text": [
      "Epoch 3/30, Train Loss: 0.0373\n",
      "Validation Loss: 0.0179, Accuracy: 0.9935,  Precision: 0.9317,  Recall: 0.9959\n"
     ]
    },
    {
     "name": "stderr",
     "output_type": "stream",
     "text": [
      "/home/kravchenko.artem/Projects/Diplomas/.venv/lib/python3.10/site-packages/numpy/_core/_methods.py:208: RuntimeWarning:\n",
      "\n",
      "overflow encountered in reduce\n",
      "\n"
     ]
    },
    {
     "name": "stdout",
     "output_type": "stream",
     "text": [
      "Epoch 4/30, Train Loss: 0.0344\n",
      "Validation Loss: 0.0335, Accuracy: 0.9893,  Precision: 0.8875,  Recall: 1.0000\n"
     ]
    },
    {
     "name": "stderr",
     "output_type": "stream",
     "text": [
      "/home/kravchenko.artem/Projects/Diplomas/.venv/lib/python3.10/site-packages/numpy/_core/_methods.py:208: RuntimeWarning:\n",
      "\n",
      "overflow encountered in reduce\n",
      "\n"
     ]
    },
    {
     "name": "stdout",
     "output_type": "stream",
     "text": [
      "Epoch 5/30, Train Loss: 0.0260\n",
      "Validation Loss: 0.0213, Accuracy: 0.9941,  Precision: 0.9389,  Recall: 0.9945\n"
     ]
    },
    {
     "name": "stderr",
     "output_type": "stream",
     "text": [
      "/home/kravchenko.artem/Projects/Diplomas/.venv/lib/python3.10/site-packages/numpy/_core/_methods.py:208: RuntimeWarning:\n",
      "\n",
      "overflow encountered in reduce\n",
      "\n"
     ]
    },
    {
     "name": "stdout",
     "output_type": "stream",
     "text": [
      "Epoch 6/30, Train Loss: 0.0350\n",
      "Validation Loss: 0.0287, Accuracy: 0.9909,  Precision: 0.9142,  Recall: 0.9835\n"
     ]
    },
    {
     "name": "stderr",
     "output_type": "stream",
     "text": [
      "/home/kravchenko.artem/Projects/Diplomas/.venv/lib/python3.10/site-packages/numpy/_core/_methods.py:208: RuntimeWarning:\n",
      "\n",
      "overflow encountered in reduce\n",
      "\n"
     ]
    },
    {
     "name": "stdout",
     "output_type": "stream",
     "text": [
      "Epoch 7/30, Train Loss: 0.0309\n",
      "Validation Loss: 0.0642, Accuracy: 0.9848,  Precision: 0.8554,  Recall: 0.9862\n"
     ]
    },
    {
     "name": "stderr",
     "output_type": "stream",
     "text": [
      "/home/kravchenko.artem/Projects/Diplomas/.venv/lib/python3.10/site-packages/numpy/_core/_methods.py:208: RuntimeWarning:\n",
      "\n",
      "overflow encountered in reduce\n",
      "\n"
     ]
    },
    {
     "name": "stdout",
     "output_type": "stream",
     "text": [
      "Epoch 8/30, Train Loss: 0.0255\n",
      "Validation Loss: 0.0349, Accuracy: 0.9873,  Precision: 0.8702,  Recall: 0.9972\n"
     ]
    },
    {
     "name": "stderr",
     "output_type": "stream",
     "text": [
      "/home/kravchenko.artem/Projects/Diplomas/.venv/lib/python3.10/site-packages/numpy/_core/_methods.py:208: RuntimeWarning:\n",
      "\n",
      "overflow encountered in reduce\n",
      "\n"
     ]
    },
    {
     "name": "stdout",
     "output_type": "stream",
     "text": [
      "Epoch 9/30, Train Loss: 0.0261\n",
      "Validation Loss: 0.0275, Accuracy: 0.9917,  Precision: 0.9192,  Recall: 0.9876\n"
     ]
    },
    {
     "name": "stderr",
     "output_type": "stream",
     "text": [
      "/home/kravchenko.artem/Projects/Diplomas/.venv/lib/python3.10/site-packages/numpy/_core/_methods.py:208: RuntimeWarning:\n",
      "\n",
      "overflow encountered in reduce\n",
      "\n"
     ]
    },
    {
     "name": "stdout",
     "output_type": "stream",
     "text": [
      "Epoch 10/30, Train Loss: 0.0242\n",
      "Validation Loss: 0.0249, Accuracy: 0.9934,  Precision: 0.9361,  Recall: 0.9890\n"
     ]
    },
    {
     "name": "stderr",
     "output_type": "stream",
     "text": [
      "/home/kravchenko.artem/Projects/Diplomas/.venv/lib/python3.10/site-packages/numpy/_core/_methods.py:208: RuntimeWarning:\n",
      "\n",
      "overflow encountered in reduce\n",
      "\n"
     ]
    },
    {
     "name": "stdout",
     "output_type": "stream",
     "text": [
      "Epoch 11/30, Train Loss: 0.0246\n",
      "Validation Loss: 0.0304, Accuracy: 0.9922,  Precision: 0.9353,  Recall: 0.9752\n"
     ]
    },
    {
     "name": "stderr",
     "output_type": "stream",
     "text": [
      "/home/kravchenko.artem/Projects/Diplomas/.venv/lib/python3.10/site-packages/numpy/_core/_methods.py:208: RuntimeWarning:\n",
      "\n",
      "overflow encountered in reduce\n",
      "\n"
     ]
    },
    {
     "name": "stdout",
     "output_type": "stream",
     "text": [
      "Epoch 12/30, Train Loss: 0.0182\n",
      "Validation Loss: 0.0224, Accuracy: 0.9949,  Precision: 0.9559,  Recall: 0.9848\n"
     ]
    },
    {
     "name": "stderr",
     "output_type": "stream",
     "text": [
      "/home/kravchenko.artem/Projects/Diplomas/.venv/lib/python3.10/site-packages/numpy/_core/_methods.py:208: RuntimeWarning:\n",
      "\n",
      "overflow encountered in reduce\n",
      "\n"
     ]
    },
    {
     "name": "stdout",
     "output_type": "stream",
     "text": [
      "Epoch 13/30, Train Loss: 0.0234\n",
      "Validation Loss: 0.0370, Accuracy: 0.9926,  Precision: 0.9522,  Recall: 0.9601\n"
     ]
    },
    {
     "name": "stderr",
     "output_type": "stream",
     "text": [
      "/home/kravchenko.artem/Projects/Diplomas/.venv/lib/python3.10/site-packages/numpy/_core/_methods.py:208: RuntimeWarning:\n",
      "\n",
      "overflow encountered in reduce\n",
      "\n"
     ]
    },
    {
     "name": "stdout",
     "output_type": "stream",
     "text": [
      "Epoch 14/30, Train Loss: 0.0231\n",
      "Validation Loss: 0.0380, Accuracy: 0.9876,  Precision: 0.8816,  Recall: 0.9848\n"
     ]
    },
    {
     "name": "stderr",
     "output_type": "stream",
     "text": [
      "/home/kravchenko.artem/Projects/Diplomas/.venv/lib/python3.10/site-packages/numpy/_core/_methods.py:208: RuntimeWarning:\n",
      "\n",
      "overflow encountered in reduce\n",
      "\n"
     ]
    },
    {
     "name": "stdout",
     "output_type": "stream",
     "text": [
      "Epoch 15/30, Train Loss: 0.0224\n",
      "Validation Loss: 0.0509, Accuracy: 0.9855,  Precision: 0.8799,  Recall: 0.9587\n"
     ]
    },
    {
     "name": "stderr",
     "output_type": "stream",
     "text": [
      "/home/kravchenko.artem/Projects/Diplomas/.venv/lib/python3.10/site-packages/numpy/_core/_methods.py:208: RuntimeWarning:\n",
      "\n",
      "overflow encountered in reduce\n",
      "\n"
     ]
    },
    {
     "name": "stdout",
     "output_type": "stream",
     "text": [
      "Epoch 16/30, Train Loss: 0.0193\n",
      "Validation Loss: 0.0388, Accuracy: 0.9878,  Precision: 0.8876,  Recall: 0.9793\n"
     ]
    },
    {
     "name": "stderr",
     "output_type": "stream",
     "text": [
      "/home/kravchenko.artem/Projects/Diplomas/.venv/lib/python3.10/site-packages/numpy/_core/_methods.py:208: RuntimeWarning:\n",
      "\n",
      "overflow encountered in reduce\n",
      "\n"
     ]
    },
    {
     "name": "stdout",
     "output_type": "stream",
     "text": [
      "Epoch 17/30, Train Loss: 0.0223\n",
      "Validation Loss: 0.0380, Accuracy: 0.9907,  Precision: 0.9109,  Recall: 0.9862\n"
     ]
    },
    {
     "name": "stderr",
     "output_type": "stream",
     "text": [
      "/home/kravchenko.artem/Projects/Diplomas/.venv/lib/python3.10/site-packages/numpy/_core/_methods.py:208: RuntimeWarning:\n",
      "\n",
      "overflow encountered in reduce\n",
      "\n"
     ]
    },
    {
     "name": "stdout",
     "output_type": "stream",
     "text": [
      "Epoch 18/30, Train Loss: 0.0182\n",
      "Validation Loss: 0.0584, Accuracy: 0.9848,  Precision: 0.8606,  Recall: 0.9780\n"
     ]
    },
    {
     "name": "stderr",
     "output_type": "stream",
     "text": [
      "/home/kravchenko.artem/Projects/Diplomas/.venv/lib/python3.10/site-packages/numpy/_core/_methods.py:208: RuntimeWarning:\n",
      "\n",
      "overflow encountered in reduce\n",
      "\n"
     ]
    },
    {
     "name": "stdout",
     "output_type": "stream",
     "text": [
      "Epoch 19/30, Train Loss: 0.0217\n",
      "Validation Loss: 0.1227, Accuracy: 0.9753,  Precision: 0.7860,  Recall: 0.9711\n"
     ]
    },
    {
     "name": "stderr",
     "output_type": "stream",
     "text": [
      "/home/kravchenko.artem/Projects/Diplomas/.venv/lib/python3.10/site-packages/numpy/_core/_methods.py:208: RuntimeWarning:\n",
      "\n",
      "overflow encountered in reduce\n",
      "\n"
     ]
    },
    {
     "name": "stdout",
     "output_type": "stream",
     "text": [
      "Epoch 20/30, Train Loss: 0.0209\n",
      "Validation Loss: 0.0657, Accuracy: 0.9832,  Precision: 0.8573,  Recall: 0.9601\n"
     ]
    },
    {
     "name": "stderr",
     "output_type": "stream",
     "text": [
      "/home/kravchenko.artem/Projects/Diplomas/.venv/lib/python3.10/site-packages/numpy/_core/_methods.py:208: RuntimeWarning:\n",
      "\n",
      "overflow encountered in reduce\n",
      "\n"
     ]
    },
    {
     "name": "stdout",
     "output_type": "stream",
     "text": [
      "Epoch 21/30, Train Loss: 0.0239\n",
      "Validation Loss: 0.0549, Accuracy: 0.9836,  Precision: 0.8510,  Recall: 0.9752\n"
     ]
    },
    {
     "name": "stderr",
     "output_type": "stream",
     "text": [
      "/home/kravchenko.artem/Projects/Diplomas/.venv/lib/python3.10/site-packages/numpy/_core/_methods.py:208: RuntimeWarning:\n",
      "\n",
      "overflow encountered in reduce\n",
      "\n"
     ]
    },
    {
     "name": "stdout",
     "output_type": "stream",
     "text": [
      "Epoch 22/30, Train Loss: 0.0144\n",
      "Validation Loss: 0.0509, Accuracy: 0.9881,  Precision: 0.8908,  Recall: 0.9780\n"
     ]
    },
    {
     "name": "stderr",
     "output_type": "stream",
     "text": [
      "/home/kravchenko.artem/Projects/Diplomas/.venv/lib/python3.10/site-packages/numpy/_core/_methods.py:208: RuntimeWarning:\n",
      "\n",
      "overflow encountered in reduce\n",
      "\n"
     ]
    },
    {
     "name": "stdout",
     "output_type": "stream",
     "text": [
      "Epoch 23/30, Train Loss: 0.0195\n",
      "Validation Loss: 0.0399, Accuracy: 0.9918,  Precision: 0.9338,  Recall: 0.9711\n"
     ]
    },
    {
     "name": "stderr",
     "output_type": "stream",
     "text": [
      "/home/kravchenko.artem/Projects/Diplomas/.venv/lib/python3.10/site-packages/numpy/_core/_methods.py:208: RuntimeWarning:\n",
      "\n",
      "overflow encountered in reduce\n",
      "\n"
     ]
    },
    {
     "name": "stdout",
     "output_type": "stream",
     "text": [
      "Epoch 24/30, Train Loss: 0.0231\n",
      "Validation Loss: 0.0845, Accuracy: 0.9810,  Precision: 0.8290,  Recall: 0.9752\n"
     ]
    },
    {
     "name": "stderr",
     "output_type": "stream",
     "text": [
      "/home/kravchenko.artem/Projects/Diplomas/.venv/lib/python3.10/site-packages/numpy/_core/_methods.py:208: RuntimeWarning:\n",
      "\n",
      "overflow encountered in reduce\n",
      "\n"
     ]
    },
    {
     "name": "stdout",
     "output_type": "stream",
     "text": [
      "Epoch 25/30, Train Loss: 0.0116\n",
      "Validation Loss: 0.2052, Accuracy: 0.9428,  Precision: 0.5959,  Recall: 0.9931\n"
     ]
    },
    {
     "name": "stderr",
     "output_type": "stream",
     "text": [
      "/home/kravchenko.artem/Projects/Diplomas/.venv/lib/python3.10/site-packages/numpy/_core/_methods.py:208: RuntimeWarning:\n",
      "\n",
      "overflow encountered in reduce\n",
      "\n"
     ]
    },
    {
     "name": "stdout",
     "output_type": "stream",
     "text": [
      "Epoch 26/30, Train Loss: 0.0228\n",
      "Validation Loss: 0.0548, Accuracy: 0.9854,  Precision: 0.8704,  Recall: 0.9711\n"
     ]
    },
    {
     "name": "stderr",
     "output_type": "stream",
     "text": [
      "/home/kravchenko.artem/Projects/Diplomas/.venv/lib/python3.10/site-packages/numpy/_core/_methods.py:208: RuntimeWarning:\n",
      "\n",
      "overflow encountered in reduce\n",
      "\n"
     ]
    },
    {
     "name": "stdout",
     "output_type": "stream",
     "text": [
      "Epoch 27/30, Train Loss: 0.0173\n",
      "Validation Loss: 0.0887, Accuracy: 0.9833,  Precision: 0.8628,  Recall: 0.9532\n"
     ]
    },
    {
     "name": "stderr",
     "output_type": "stream",
     "text": [
      "/home/kravchenko.artem/Projects/Diplomas/.venv/lib/python3.10/site-packages/numpy/_core/_methods.py:208: RuntimeWarning:\n",
      "\n",
      "overflow encountered in reduce\n",
      "\n"
     ]
    },
    {
     "name": "stdout",
     "output_type": "stream",
     "text": [
      "Epoch 28/30, Train Loss: 0.0172\n",
      "Validation Loss: 0.0338, Accuracy: 0.9924,  Precision: 0.9508,  Recall: 0.9587\n"
     ]
    },
    {
     "name": "stderr",
     "output_type": "stream",
     "text": [
      "/home/kravchenko.artem/Projects/Diplomas/.venv/lib/python3.10/site-packages/numpy/_core/_methods.py:208: RuntimeWarning:\n",
      "\n",
      "overflow encountered in reduce\n",
      "\n"
     ]
    },
    {
     "name": "stdout",
     "output_type": "stream",
     "text": [
      "Epoch 29/30, Train Loss: 0.0176\n",
      "Validation Loss: 0.0658, Accuracy: 0.9859,  Precision: 0.8766,  Recall: 0.9683\n"
     ]
    },
    {
     "name": "stderr",
     "output_type": "stream",
     "text": [
      "/home/kravchenko.artem/Projects/Diplomas/.venv/lib/python3.10/site-packages/numpy/_core/_methods.py:208: RuntimeWarning:\n",
      "\n",
      "overflow encountered in reduce\n",
      "\n"
     ]
    },
    {
     "name": "stdout",
     "output_type": "stream",
     "text": [
      "Epoch 30/30, Train Loss: 0.0161\n",
      "Validation Loss: 0.0809, Accuracy: 0.9823,  Precision: 0.8399,  Recall: 0.9752\n",
      "Fold 3 completed. Best Validation Loss: 19.3285, Accuracy: 0.9823\n",
      "\n"
     ]
    },
    {
     "data": {
      "image/png": "[encoded data removed]",
      "text/plain": [
       "<Figure size 640x480 with 2 Axes>"
      ]
     },
     "metadata": {},
     "output_type": "display_data"
    },
    {
     "data": {
      "image/png": "[encoded data removed]",
      "text/plain": [
       "<Figure size 640x480 with 2 Axes>"
      ]
     },
     "metadata": {},
     "output_type": "display_data"
    },
    {
     "data": {
      "image/png": "[encoded data removed]",
      "text/plain": [
       "<Figure size 640x480 with 2 Axes>"
      ]
     },
     "metadata": {},
     "output_type": "display_data"
    }
   ],
   "source": [
    "loss_type = config[\"loss_function\"][\"type\"]\n",
    "\n",
    "if loss_type == \"FocalLoss\":\n",
    "    criterion = FocalLoss(\n",
    "        alpha=config[\"loss_function\"][\"parameters\"][\"alpha\"],\n",
    "        gamma=config[\"loss_function\"][\"parameters\"][\"gamma\"],\n",
    "    )\n",
    "elif loss_type == \"BCEWithLogitsLoss\":\n",
    "    pos_weight = torch.tensor(config[\"loss_function\"][\"parameters\"][\"pos_weight\"])\n",
    "    criterion = torch.nn.BCEWithLogitsLoss(pos_weight=pos_weight)\n",
    "else:\n",
    "    raise ValueError(f\"Unknown loss function type: {loss_type}\")\n",
    "\n",
    "# criterion = torch.nn.BCEWithLogitsLoss(pos_weight=pos_weight)\n",
    "# criterion = FocalLoss(alpha=2, gamma=3)\n",
    "optimizer = torch.optim.Adam(\n",
    "    model.parameters(),\n",
    "    lr=config[\"optimizer\"][\"parameters\"][\"lr\"],\n",
    "    weight_decay=config[\"optimizer\"][\"parameters\"][\"weight_decay\"],\n",
    ")\n",
    "\n",
    "device = torch.device(\"cuda\" if torch.cuda.is_available() else \"cpu\")\n",
    "\n",
    "\n",
    "# Обучение модели\n",
    "def train_model(model, data, orig_targets, criterion, optimizer, num_epochs=10, patience=10):\n",
    "    for fold, (train_idx, val_idx) in enumerate(skf.split(data, orig_targets)):\n",
    "        print(f'FOLD {fold+1}')\n",
    "        print('-' * 30)\n",
    "\n",
    "        # Разделяем данные на обучающую и валидационную выборки\n",
    "        train_subset = Subset(dataset, train_idx)\n",
    "        val_subset = Subset(dataset, val_idx)\n",
    "\n",
    "        # Расчёт весов для классов\n",
    "        train_labels = [int(orig_targets[i]) for i in train_idx]\n",
    "        class_counts = np.bincount(train_labels)\n",
    "        class_weights = 1.0 / class_counts\n",
    "        sample_weights = [class_weights[label] for label in train_labels]\n",
    "\n",
    "        # Самплер\n",
    "        sampler = WeightedRandomSampler(sample_weights, len(sample_weights), replacement=True)\n",
    "\n",
    "        train_loader = DataLoader(train_subset, batch_size=batch_size, sampler=sampler)\n",
    "        val_loader = DataLoader(val_subset, batch_size=batch_size, shuffle=False)\n",
    "\n",
    "        # Инициализация модели, оптимизатора и функции потерь\n",
    "        model = model.to(device)\n",
    "        criterion = criterion.to(device)\n",
    "        # Обучение модели\n",
    "        best_val_loss = float('inf')\n",
    "        y_true, y_pred = [], []\n",
    "\n",
    "        for epoch in range(num_epochs):\n",
    "            model.train()\n",
    "            train_loss = 0.0\n",
    "            \n",
    "            y_true = []\n",
    "            y_pred = []\n",
    "\n",
    "            for inputs, labels in train_loader:\n",
    "                inputs, labels = inputs.to(device), labels.to(device)\n",
    "                labels = F.one_hot(labels, num_classes=2).float()\n",
    "                optimizer.zero_grad()\n",
    "                outputs = model(inputs)\n",
    "                loss = criterion(outputs, labels)\n",
    "                loss.backward()\n",
    "                optimizer.step()\n",
    "\n",
    "                train_loss += loss.item()\n",
    "\n",
    "            print(f\"Epoch {epoch+1}/{num_epochs}, Train Loss: {train_loss / len(train_loader):.4f}\")\n",
    "\n",
    "            # Валидация\n",
    "            model.eval()\n",
    "            val_loss = 0.0\n",
    "            correct = 0\n",
    "            total = 0\n",
    "\n",
    "            with torch.no_grad():\n",
    "                for inputs, labels in val_loader:\n",
    "                    inputs, labels = inputs.to(device), labels.to(device)\n",
    "                    outputs = model(inputs)\n",
    "                    labels = F.one_hot(labels, num_classes=2).float()\n",
    "                    loss = criterion(outputs, labels)\n",
    "                    val_loss += loss.item()\n",
    "\n",
    "                    # Подсчёт точности\n",
    "                    _, preds = torch.max(outputs, 1)\n",
    "                    _, labels = torch.max(labels, 1)\n",
    "                    correct += (preds == labels).sum().item()\n",
    "                    total += labels.size(0)\n",
    "\n",
    "                    y_true.extend(labels.cpu().numpy())\n",
    "                    y_pred.extend(preds.cpu().numpy())\n",
    "\n",
    "            val_accuracy = correct / total\n",
    "            recall = recall_score(y_true, y_pred)\n",
    "            accuracy = accuracy_score(y_true, y_pred)\n",
    "            precision = precision_score(y_true, y_pred)\n",
    "            \n",
    "            print(f\"Validation Loss: {val_loss / len(val_loader):.4f}, Accuracy: {val_accuracy:.4f},  Precision: {precision:.4f},  Recall: {recall:.4f}\")\n",
    "            task.get_logger().report_scalar(title=f\"Loss by fold {fold + 1}\", series=\"Validation Loss\", iteration=epoch, value=val_loss)\n",
    "            task.get_logger().report_scalar(title=f\"Accuracy by Fold {fold + 1}\", series=\"Validation Accuracy\", iteration=epoch, value=val_accuracy)\n",
    "            task.get_logger().report_scalar(title=f\"Precision by Fold {fold + 1}\", series=\"Validation Precision\", iteration=epoch, value=precision)\n",
    "            task.get_logger().report_scalar(title=f\"Recall by Fold {fold + 1}\", series=\"Validation Recall\", iteration=epoch, value=recall)\n",
    "\n",
    "            # Сохраняем лучшую модель для текущего фолда\n",
    "            if val_loss < best_val_loss:\n",
    "                best_val_loss = val_loss\n",
    "                best_model_state = model.state_dict()\n",
    "\n",
    "        # Логгирование результатов в ClearML\n",
    "        task.get_logger().report_scalar(title=f\"Loss by Folds\", series=\"Validation Loss\", iteration=fold, value=val_loss)\n",
    "        task.get_logger().report_scalar(title=f\"Accuracy by Folds\", series=\"Validation Accuracy\", iteration=fold, value=val_accuracy)\n",
    "        task.get_logger().report_scalar(title=f\"Precision by Folds\", series=\"Validation Precision\", iteration=fold, value=precision)\n",
    "        task.get_logger().report_scalar(title=f\"Recall by Folds\", series=\"Validation Recall\", iteration=fold, value=recall)\n",
    "\n",
    "        # Матрица неточности\n",
    "        cm = confusion_matrix(y_true, y_pred)\n",
    "        disp = ConfusionMatrixDisplay(confusion_matrix=cm)\n",
    "        disp.plot(cmap=plt.cm.Blues)\n",
    "        plt.title(f\"Confusion Matrix for Fold {fold+1}\")\n",
    "        plt.savefig(f\"confusion_matrix_fold_{fold+1}.png\")\n",
    "        task.get_logger().report_image(title=f\"Fold {fold+1}\", series=\"Confusion Matrix\", local_path=f\"confusion_matrix_fold_{fold+1}.png\")\n",
    "\n",
    "        # Сохраняем результаты фолда\n",
    "        fold_results.append((best_val_loss, val_accuracy))\n",
    "        print(f\"Fold {fold+1} completed. Best Validation Loss: {best_val_loss:.4f}, Accuracy: {val_accuracy:.4f}\\n\")\n",
    "\n",
    "# Итоговая статистика по всем фолдам\n",
    "avg_loss = np.mean([result[0] for result in fold_results])\n",
    "avg_accuracy = np.mean([result[1] for result in fold_results])\n",
    "print(f\"Cross-Validation Results: Average Loss: {avg_loss:.4f}, Average Accuracy: {avg_accuracy:.4f}\")\n",
    "\n",
    "task.get_logger().report_scalar(title=\"Overall\", series=\"Average Validation Loss\", iteration=0, value=avg_loss)\n",
    "task.get_logger().report_scalar(title=\"Overall\", series=\"Average Validation Accuracy\", iteration=0, value=avg_accuracy)\n",
    "\n",
    "\n",
    "# Запуск обучения\n",
    "train_model(model, X_train, Y_train, criterion, optimizer, num_epochs=30)"
   ]
  },
  {
   "cell_type": "code",
   "execution_count": 21,
   "metadata": {},
   "outputs": [
    {
     "name": "stdout",
     "output_type": "stream",
     "text": [
      "2024-12-10 12:43:38,252 - clearml.frameworks - INFO - Found existing registered model id=565d52b1c2d64a4bb2044e7dbf33bde4 [/home/kravchenko.artem/Projects/Diplomas/Classifiers/Cross Valid NN/model_weights.pth] reusing it.\n"
     ]
    },
    {
     "data": {
      "text/plain": [
       "True"
      ]
     },
     "execution_count": 21,
     "metadata": {},
     "output_type": "execute_result"
    }
   ],
   "source": [
    "# Сохранение модели\n",
    "torch.save(model.state_dict(), \"model_weights.pth\")\n",
    "task.upload_artifact(name=\"Model Weights\", artifact_object=\"model_weights.pth\")\n",
    "\n",
    "# Сохранение конфигурации\n",
    "task.upload_artifact(name=\"Config File\", artifact_object=\"config.yaml\")"
   ]
  },
  {
   "cell_type": "code",
   "execution_count": 22,
   "metadata": {},
   "outputs": [
    {
     "name": "stderr",
     "output_type": "stream",
     "text": [
      "/home/kravchenko.artem/Projects/Diplomas/.venv/lib/python3.10/site-packages/numpy/_core/_methods.py:208: RuntimeWarning:\n",
      "\n",
      "overflow encountered in reduce\n",
      "\n"
     ]
    },
    {
     "name": "stdout",
     "output_type": "stream",
     "text": [
      "Validation recall: 0.6465\n",
      "Validation accuracy: 0.9217\n",
      "Validation precision: 0.5292\n",
      "\n",
      " clasification report:\n",
      "               precision    recall  f1-score   support\n",
      "\n",
      "           0       0.97      0.95      0.96      5931\n",
      "           1       0.53      0.65      0.58       546\n",
      "\n",
      "    accuracy                           0.92      6477\n",
      "   macro avg       0.75      0.80      0.77      6477\n",
      "weighted avg       0.93      0.92      0.93      6477\n",
      "\n",
      "Матрица несоответствий для тестовой выборки метода ЛДА:\n",
      "\n"
     ]
    },
    {
     "data": {
      "image/png": "[encoded data removed]",
      "text/plain": [
       "<Figure size 500x500 with 2 Axes>"
      ]
     },
     "metadata": {},
     "output_type": "display_data"
    }
   ],
   "source": [
    "test_dataset = ECGDataset(data=X_test, labels=Y_test)\n",
    "test_loader = DataLoader(test_dataset, batch_size=batch_size, shuffle=False)\n",
    "\n",
    "def validate_model(model, dataloader):\n",
    "    model = MultiBranchECGNet(num_channels=8, num_classes=2)\n",
    "    model.load_state_dict(torch.load(\"model_weights.pth\", weights_only=True))\n",
    "    model.eval()  # Переводим модель в режим оценки\n",
    "    all_preds = []\n",
    "    all_labels = []\n",
    "\n",
    "    with torch.no_grad():  # Отключаем градиенты для валидации\n",
    "        for inputs, labels in dataloader:\n",
    "            outputs = model(inputs)\n",
    "            _, preds = torch.max(outputs, 1)  # Предсказания с максимальной вероятностью\n",
    "            all_preds.append(preds.cpu().numpy())\n",
    "            all_labels.append(labels.cpu().numpy())\n",
    "\n",
    "    # Преобразуем в numpy массивы\n",
    "    all_preds = np.concatenate(all_preds)\n",
    "    all_labels = np.concatenate(all_labels)\n",
    "    # all_labels = np.argmax(all_labels, axis=1)\n",
    "\n",
    "    # Считаем accuracy\n",
    "    recall = recall_score(all_labels, all_preds)\n",
    "    print(f\"Validation recall: {recall:.4f}\")\n",
    "    accuracy = accuracy_score(all_labels, all_preds)\n",
    "    print(f\"Validation accuracy: {accuracy:.4f}\")\n",
    "    precision = precision_score(all_labels, all_preds)\n",
    "    print(f\"Validation precision: {precision:.4f}\")\n",
    "\n",
    "    class_names = [\"Норм. ритм\", \"Амилоидоз\"]\n",
    "\n",
    "    print(\"\\n clasification report:\\n\", classification_report(all_labels, all_preds))\n",
    "\n",
    "    print(\"Матрица несоответствий для тестовой выборки метода ЛДА:\\n\")\n",
    "    fig, ax = plt.subplots(figsize=(5, 5))\n",
    "    disp = ConfusionMatrixDisplay(\n",
    "        confusion_matrix(all_labels, all_preds), display_labels=class_names\n",
    "    )\n",
    "    disp.plot(cmap=\"Blues\", ax=ax)\n",
    "\n",
    "    Logger.current_logger().report_confusion_matrix(\n",
    "        title=\"Confusion Matrix\",\n",
    "        series=\"Validation Results\",\n",
    "        matrix=confusion_matrix(all_labels, all_preds),\n",
    "        yaxis_reversed=True,\n",
    "        xaxis=\"Predicted\",\n",
    "        yaxis=\"Expected\",\n",
    "        xlabels=class_names,\n",
    "        ylabels=class_names,\n",
    "    )\n",
    "\n",
    "    return recall\n",
    "\n",
    "\n",
    "# Пример вызова валидации\n",
    "test_accuracy = validate_model(model, test_loader)"
   ]
  },
  {
   "cell_type": "code",
   "execution_count": 23,
   "metadata": {},
   "outputs": [],
   "source": [
    "mlflow.end_run()\n",
    "task.close()"
   ]
  }
 ],
 "metadata": {
  "kernelspec": {
   "display_name": ".venv",
   "language": "python",
   "name": "python3"
  },
  "language_info": {
   "codemirror_mode": {
    "name": "ipython",
    "version": 3
   },
   "file_extension": ".py",
   "mimetype": "text/x-python",
   "name": "python",
   "nbconvert_exporter": "python",
   "pygments_lexer": "ipython3",
   "version": "3.10.12"
  }
 },
 "nbformat": 4,
 "nbformat_minor": 2
}
