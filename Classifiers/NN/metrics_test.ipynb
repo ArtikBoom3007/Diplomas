{
 "cells": [
  {
   "cell_type": "code",
   "execution_count": 1,
   "metadata": {},
   "outputs": [],
   "source": [
    "from sklearn.metrics import recall_score, accuracy_score, precision_score"
   ]
  },
  {
   "cell_type": "code",
   "execution_count": 8,
   "metadata": {},
   "outputs": [
    {
     "name": "stdout",
     "output_type": "stream",
     "text": [
      "[0, 0, 0, 0, 0, 0, 0, 0, 0, 0, 0, 0, 0, 0, 0, 0, 0, 0, 0, 0, 0, 0, 0, 0, 0, 0, 0, 0, 0, 0, 0, 1, 1, 1, 1, 1, 1, 0, 0, 0, 0, 0, 0, 0, 0, 0, 1, 1]\n",
      "[0, 0, 0, 0, 0, 0, 0, 0, 0, 0, 0, 0, 0, 0, 0, 0, 0, 0, 0, 0, 0, 0, 0, 0, 0, 0, 0, 0, 0, 0, 0, 1, 1, 1, 1, 1, 1, 1, 1, 1, 1, 1, 1, 1, 1, 1, 0, 0]\n",
      "0.4\n",
      "0.9393939393939394\n",
      "0.75\n",
      "0.775\n"
     ]
    }
   ],
   "source": [
    "true_negative = 31 * [0]\n",
    "true_positive = 6 * [1]\n",
    "\n",
    "targets = true_negative + true_positive + [0] * 9 + 2 * [1]\n",
    "predicted = true_negative + true_positive + [1] * 9 + 2 * [0]\n",
    "\n",
    "print(targets)\n",
    "print(predicted)\n",
    "\n",
    "TP = 31\n",
    "TN = 6\n",
    "FP = 2\n",
    "FN = 9\n",
    "\n",
    "precision = TP / (TP + FP)\n",
    "recall = TP / (TP + FN)\n",
    "\n",
    "print(precision_score(y_true=targets, y_pred=predicted))\n",
    "print(precision)\n",
    "\n",
    "print(recall_score(y_true=targets, y_pred=predicted))\n",
    "print(recall)"
   ]
  }
 ],
 "metadata": {
  "kernelspec": {
   "display_name": ".venv",
   "language": "python",
   "name": "python3"
  },
  "language_info": {
   "codemirror_mode": {
    "name": "ipython",
    "version": 3
   },
   "file_extension": ".py",
   "mimetype": "text/x-python",
   "name": "python",
   "nbconvert_exporter": "python",
   "pygments_lexer": "ipython3",
   "version": "3.10.12"
  }
 },
 "nbformat": 4,
 "nbformat_minor": 2
}
