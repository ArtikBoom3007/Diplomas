{
 "cells": [
  {
   "cell_type": "code",
   "execution_count": 1,
   "metadata": {},
   "outputs": [],
   "source": [
    "import numpy as np\n",
    "import pandas as pd\n",
    "import matplotlib.pyplot as plt\n",
    "\n",
    "import pywt\n",
    "import os\n",
    "import sys\n",
    "from importlib import reload\n",
    "from pyedflib import highlevel\n",
    "from scipy.signal import butter, lfilter\n",
    "\n",
    "from sklearn.ensemble import RandomForestClassifier\n",
    "from sklearn.svm import SVC\n",
    "from sklearn.model_selection import train_test_split\n",
    "from sklearn.metrics import accuracy_score\n",
    "from sklearn.ensemble import VotingClassifier\n",
    "from sklearn.metrics import ConfusionMatrixDisplay\n",
    "from sklearn.metrics import precision_score, \\\n",
    "    recall_score, confusion_matrix, classification_report, \\\n",
    "    accuracy_score, f1_score\n",
    "\n",
    "import torch\n",
    "import torch.nn as nn\n",
    "import torch.optim as optim\n",
    "from torch.utils.data import DataLoader, TensorDataset, random_split\n",
    "\n",
    "# Подгружаем пути к директориям с нашими алгоритмами:\n",
    "script_path = os.path.join(os.getcwd(), \"../../Scripts/\")\n",
    "sys.path.append(script_path)\n",
    "import data_generator as dgen\n"
   ]
  },
  {
   "cell_type": "code",
   "execution_count": 2,
   "metadata": {},
   "outputs": [],
   "source": [
    "dgen.init(filter=True)\n",
    "amy, amyc, norm = dgen.read_data()"
   ]
  },
  {
   "cell_type": "code",
   "execution_count": 3,
   "metadata": {},
   "outputs": [],
   "source": [
    "norm_parts = dgen.crop(norm)\n",
    "amy_parts = dgen.crop(amy)\n",
    "amyc_parts = dgen.crop(amyc)"
   ]
  },
  {
   "cell_type": "markdown",
   "metadata": {},
   "source": [
    "Изучим общее количество фрагментов для каждого класса"
   ]
  },
  {
   "cell_type": "code",
   "execution_count": 4,
   "metadata": {},
   "outputs": [
    {
     "name": "stdout",
     "output_type": "stream",
     "text": [
      "510 - Norm parts\n",
      "396 - amy parts\n",
      "310 - amyc parts\n"
     ]
    }
   ],
   "source": [
    "print(len(norm_parts), \"- Norm parts\")\n",
    "print(len(amy_parts), \"- amy parts\")\n",
    "print(len(amyc_parts), \"- amyc parts\")\n",
    "\n",
    "norm_parts = np.array(norm_parts)\n",
    "amy_parts = np.array(amy_parts)\n",
    "amyc_parts = np.array(amyc_parts)"
   ]
  },
  {
   "cell_type": "code",
   "execution_count": 5,
   "metadata": {},
   "outputs": [],
   "source": [
    "def extract_statistical_features(ecg_signal):\n",
    "    features = {}\n",
    "    features['std'] = pd.Series(np.std(ecg_signal, axis=1))\n",
    "    features['min'] = pd.Series(np.min(ecg_signal, axis=1))\n",
    "    features['max'] = pd.Series(np.max(ecg_signal, axis=1))\n",
    "    features['range'] = pd.Series(np.ptp(ecg_signal, axis=1))  # max - min\n",
    "    return features\n",
    "\n",
    "def extract_frequency_features(ecg_signal):\n",
    "    # Преобразование Фурье\n",
    "    fft = np.fft.fft(ecg_signal)\n",
    "    fft_mag = np.abs(fft)\n",
    "    \n",
    "    # Извлекаем частотные признаки\n",
    "    features = {}\n",
    "    features['freq_mean'] = pd.Series(np.mean(fft_mag, axis=1))\n",
    "    features['freq_std'] = pd.Series(np.std(fft_mag, axis=1))\n",
    "    features['freq_max'] = pd.Series(np.max(fft_mag, axis=1))\n",
    "    features['freq_min'] = pd.Series(np.min(fft_mag, axis=1))\n",
    "    \n",
    "    return features\n",
    "\n",
    "def extract_wavelet_features(ecg_signal):\n",
    "    coeffs = pywt.wavedec(ecg_signal, 'db4', level=4)\n",
    "    features = {}\n",
    "    \n",
    "    # Извлечение статистики для каждого уровня\n",
    "    for i, coeff in enumerate(coeffs):\n",
    "        features[f'wavelet_mean_level_{i}'] = pd.Series(np.mean(coeff, axis=1))\n",
    "        features[f'wavelet_std_level_{i}'] = pd.Series(np.std(coeff, axis=1))\n",
    "    \n",
    "    return features\n"
   ]
  },
  {
   "cell_type": "markdown",
   "metadata": {},
   "source": [
    "А теперь поделим данные на трейн тест по людям, и после порежем сигналы на части"
   ]
  },
  {
   "cell_type": "code",
   "execution_count": 6,
   "metadata": {},
   "outputs": [],
   "source": [
    "data_raw = norm + amyc + amy\n",
    "lab = np.concatenate([np.zeros(len(norm) + len(amyc)), np.ones(len(amy))])\n",
    "X_train_raw, X_test_raw, y_train_raw, y_test_raw = train_test_split(data_raw, lab, test_size=0.2, random_state=42)\n",
    "\n",
    "data_train = []\n",
    "y_train = []\n",
    "data_test = []\n",
    "y_test = []\n",
    "\n",
    "for i in range(len(X_train_raw)):\n",
    "    temp = dgen.crop([X_train_raw[i]])\n",
    "    data_train.extend(temp)\n",
    "    y_train.extend(y_train_raw[i] * np.ones(len(temp)))\n",
    "\n",
    "for i in range(len(X_test_raw)):\n",
    "    temp = dgen.crop([X_test_raw[i]])\n",
    "    data_test.extend(temp)\n",
    "    y_test.extend(y_test_raw[i] * np.ones(len(temp)))\n",
    "\n",
    "data_train = np.array(data_train)\n",
    "y_train = np.array(y_train)\n",
    "data_test = np.array(data_test)\n",
    "y_test = np.array(y_test)\n"
   ]
  },
  {
   "cell_type": "code",
   "execution_count": 7,
   "metadata": {},
   "outputs": [
    {
     "name": "stdout",
     "output_type": "stream",
     "text": [
      "Random Forest accuracy: 0.5547445255474452\n",
      "SVM accuracy: 0.5109489051094891\n"
     ]
    }
   ],
   "source": [
    "X_train = pd.DataFrame({**extract_statistical_features(data_train), **extract_frequency_features(data_train), **extract_wavelet_features(data_train)})\n",
    "X_test = pd.DataFrame({**extract_statistical_features(data_test), **extract_frequency_features(data_test), **extract_wavelet_features(data_test)})\n",
    "\n",
    "# Классификатор Random Forest\n",
    "rf = RandomForestClassifier()\n",
    "rf.fit(X_train, y_train)\n",
    "\n",
    "# Оценка точности\n",
    "y_pred = rf.predict(X_test)\n",
    "print(f\"Random Forest accuracy: {accuracy_score(y_test, y_pred)}\")\n",
    "\n",
    "# Классификатор SVM\n",
    "svm = SVC()\n",
    "svm.fit(X_train, y_train)\n",
    "y_pred_svm = svm.predict(X_test)\n",
    "print(f\"SVM accuracy: {accuracy_score(y_test, y_pred_svm)}\")"
   ]
  },
  {
   "cell_type": "code",
   "execution_count": 8,
   "metadata": {},
   "outputs": [
    {
     "name": "stdout",
     "output_type": "stream",
     "text": [
      "Voting accuracy: 0.5036496350364964\n",
      "\n",
      " clasification report:\n",
      "               precision    recall  f1-score   support\n",
      "\n",
      "         0.0       0.51      0.95      0.66       140\n",
      "         1.0       0.42      0.04      0.07       134\n",
      "\n",
      "    accuracy                           0.50       274\n",
      "   macro avg       0.46      0.49      0.37       274\n",
      "weighted avg       0.46      0.50      0.37       274\n",
      "\n",
      "Матрица несоответствий для тестовой выборки метода ЛДА:\n",
      "\n"
     ]
    },
    {
     "data": {
      "image/png": "[encoded data removed]",
      "text/plain": [
       "<Figure size 500x500 with 2 Axes>"
      ]
     },
     "metadata": {},
     "output_type": "display_data"
    }
   ],
   "source": [
    "# Создание нескольких классификаторов\n",
    "rf = RandomForestClassifier(criterion='log_loss')\n",
    "svm = SVC(probability=True)\n",
    "# Добавим классификаторы в ансамбль\n",
    "voting_clf = VotingClassifier(estimators=[('rf', rf), ('svm', svm)], voting='soft')\n",
    "\n",
    "# Обучение ансамбля\n",
    "voting_clf.fit(X_train, y_train)\n",
    "\n",
    "# Оценка точности\n",
    "y_pred_voting = voting_clf.predict(X_test)\n",
    "print(f\"Voting accuracy: {accuracy_score(y_test, y_pred_voting)}\")\n",
    "\n",
    "# Замените названия классов на соответствующие вам\n",
    "class_names = ['Норм. ритм', 'Амилоидоз']\n",
    "\n",
    "print ('\\n clasification report:\\n', classification_report(y_test, y_pred_voting))\n",
    "\n",
    "print('Матрица несоответствий для тестовой выборки метода ЛДА:\\n')\n",
    "fig, ax = plt.subplots(figsize=(5, 5))\n",
    "disp = ConfusionMatrixDisplay(confusion_matrix(y_test, y_pred_voting), display_labels= class_names)\n",
    "disp.plot(cmap = 'Blues', ax=ax);\n"
   ]
  },
  {
   "cell_type": "markdown",
   "metadata": {},
   "source": [
    "Сетка ниже фигня полная\n"
   ]
  },
  {
   "cell_type": "code",
   "execution_count": 9,
   "metadata": {},
   "outputs": [
    {
     "name": "stdout",
     "output_type": "stream",
     "text": [
      "Epoch 1/10, Loss: 0.6026053875684738\n",
      "Epoch 2/10, Loss: 0.5861311376094818\n",
      "Epoch 3/10, Loss: 0.5875062187512715\n",
      "Epoch 4/10, Loss: 0.585185307264328\n",
      "Epoch 5/10, Loss: 0.5885420620441437\n",
      "Epoch 6/10, Loss: 0.5856383929649989\n",
      "Epoch 7/10, Loss: 0.5864167471726736\n",
      "Epoch 8/10, Loss: 0.5879027177890142\n",
      "Epoch 9/10, Loss: 0.5859001070261002\n",
      "Epoch 10/10, Loss: 0.5871433943510056\n",
      "Accuracy: 51.09489051094891%\n",
      "Voting accuracy: 0.5109489051094891\n",
      "\n",
      " clasification report:\n",
      "               precision    recall  f1-score   support\n",
      "\n",
      "         0.0       0.51      1.00      0.68       140\n",
      "         1.0       0.00      0.00      0.00       134\n",
      "\n",
      "    accuracy                           0.51       274\n",
      "   macro avg       0.26      0.50      0.34       274\n",
      "weighted avg       0.26      0.51      0.35       274\n",
      "\n",
      "Матрица несоответствий для тестовой выборки метода ЛДА:\n",
      "\n"
     ]
    },
    {
     "name": "stderr",
     "output_type": "stream",
     "text": [
      "d:\\DiplomaProjects\\.venv\\Lib\\site-packages\\sklearn\\metrics\\_classification.py:1531: UndefinedMetricWarning: Precision is ill-defined and being set to 0.0 in labels with no predicted samples. Use `zero_division` parameter to control this behavior.\n",
      "  _warn_prf(average, modifier, f\"{metric.capitalize()} is\", len(result))\n",
      "d:\\DiplomaProjects\\.venv\\Lib\\site-packages\\sklearn\\metrics\\_classification.py:1531: UndefinedMetricWarning: Precision is ill-defined and being set to 0.0 in labels with no predicted samples. Use `zero_division` parameter to control this behavior.\n",
      "  _warn_prf(average, modifier, f\"{metric.capitalize()} is\", len(result))\n",
      "d:\\DiplomaProjects\\.venv\\Lib\\site-packages\\sklearn\\metrics\\_classification.py:1531: UndefinedMetricWarning: Precision is ill-defined and being set to 0.0 in labels with no predicted samples. Use `zero_division` parameter to control this behavior.\n",
      "  _warn_prf(average, modifier, f\"{metric.capitalize()} is\", len(result))\n"
     ]
    },
    {
     "data": {
      "image/png": "[encoded data removed]",
      "text/plain": [
       "<Figure size 500x500 with 2 Axes>"
      ]
     },
     "metadata": {},
     "output_type": "display_data"
    }
   ],
   "source": [
    "X_train = torch.tensor(pd.DataFrame({**extract_statistical_features(data_train), \\\n",
    "    **extract_frequency_features(data_train), **extract_wavelet_features(data_train)}).to_numpy(), dtype=torch.float32).unsqueeze(1)\n",
    "X_test = torch.tensor(pd.DataFrame({**extract_statistical_features(data_test), \\\n",
    "    **extract_frequency_features(data_test), **extract_wavelet_features(data_test)}).to_numpy(), dtype=torch.float32).unsqueeze(1)\n",
    "\n",
    "train_dataset, test_dataset = TensorDataset(X_train, torch.tensor(y_train, dtype=torch.long)), TensorDataset(X_test, torch.tensor(y_test, dtype=torch.long))\n",
    "\n",
    "train_loader = DataLoader(train_dataset, batch_size=32, shuffle=True)\n",
    "test_loader = DataLoader(test_dataset, batch_size=32, shuffle=False)\n",
    "\n",
    "# Определяем модель CNN\n",
    "class ECG_CNN(nn.Module):\n",
    "    def __init__(self):\n",
    "        super(ECG_CNN, self).__init__()\n",
    "        self.conv1 = nn.Conv1d(in_channels=1, out_channels=32, kernel_size=3)\n",
    "        self.pool = nn.MaxPool1d(2)\n",
    "        self.conv2 = nn.Conv1d(in_channels=32, out_channels=64, kernel_size=3)\n",
    "        self.fc1 = nn.Linear(64 * 3, 100)  # Рассчитайте размер выходного тензора после всех сверточных слоев\n",
    "        self.fc2 = nn.Linear(100, 2)  # Выходной слой для двух классов\n",
    "\n",
    "    def forward(self, x):\n",
    "        x = self.pool(torch.relu(self.conv1(x)))\n",
    "        x = self.pool(torch.relu(self.conv2(x)))\n",
    "        x = x.view(-1, 64 * 3)  # Выпрямляем тензор для fully connected слоев\n",
    "        x = torch.relu(self.fc1(x))\n",
    "        x = torch.softmax(self.fc2(x), dim=1)\n",
    "        return x\n",
    "\n",
    "\n",
    "# Создаем объект модели, определяем loss и optimizer\n",
    "model = ECG_CNN()\n",
    "criterion = nn.CrossEntropyLoss()\n",
    "optimizer = optim.Adam(model.parameters(), lr=0.001)\n",
    "\n",
    "# Функция для обучения модели\n",
    "def train_model(model, train_loader, criterion, optimizer, epochs=10):\n",
    "    model.train()\n",
    "    for epoch in range(epochs):\n",
    "        running_loss = 0.0\n",
    "        for inputs, labels in train_loader:\n",
    "            # Нулим градиенты\n",
    "            optimizer.zero_grad()\n",
    "\n",
    "            # Forward pass\n",
    "            outputs = model(inputs)\n",
    "            loss = criterion(outputs, labels)\n",
    "\n",
    "            # Backward pass и оптимизация\n",
    "            loss.backward()\n",
    "            optimizer.step()\n",
    "\n",
    "            running_loss += loss.item()\n",
    "        print(f'Epoch {epoch+1}/{epochs}, Loss: {running_loss/len(train_loader)}')\n",
    "\n",
    "# Функция для тестирования модели\n",
    "def test_model(model, test_loader):\n",
    "    model.eval()\n",
    "    correct = 0\n",
    "    total = 0\n",
    "    with torch.no_grad():\n",
    "        for inputs, labels in test_loader:\n",
    "            outputs = model(inputs)\n",
    "            _, predicted = torch.max(outputs, 1)\n",
    "            total += labels.size(0)\n",
    "            correct += (predicted == labels).sum().item()\n",
    "    print(f'Accuracy: {100 * correct / total}%')\n",
    "\n",
    "# Обучаем модель\n",
    "train_model(model, train_loader, criterion, optimizer, epochs=10)\n",
    "\n",
    "# Тестируем модель\n",
    "test_model(model, test_loader)\n",
    "\n",
    "# Оценка точности\n",
    "y = model(X_test).detach().numpy()\n",
    "y_pred = []\n",
    "for i in range(len(y)):\n",
    "    if y[i][0] > y[i][1]:\n",
    "        y_pred.append(0)\n",
    "    else:\n",
    "        y_pred.append(1)\n",
    "print(f\"Voting accuracy: {accuracy_score(y_test, y_pred)}\")\n",
    "\n",
    "# Замените названия классов на соответствующие вам\n",
    "class_names = ['Норм. ритм', 'Амилоидоз']\n",
    "\n",
    "print ('\\n clasification report:\\n', classification_report(y_test, y_pred))\n",
    "\n",
    "print('Матрица несоответствий для тестовой выборки метода ЛДА:\\n')\n",
    "fig, ax = plt.subplots(figsize=(5, 5))\n",
    "disp = ConfusionMatrixDisplay(confusion_matrix(y_test, y_pred), display_labels= class_names)\n",
    "disp.plot(cmap = 'Blues', ax=ax);\n",
    "\n"
   ]
  },
  {
   "cell_type": "code",
   "execution_count": 10,
   "metadata": {},
   "outputs": [],
   "source": [
    "signal_len = dgen.signal_len\n",
    "normalize = dgen.normalize\n",
    "\n",
    "def calcGroupTable(model, groupnames : list, records : list, label : int, df : pd.DataFrame):\n",
    "    for i in range(len(groupnames)):\n",
    "        record = records[i]\n",
    "        parts = dgen.crop([record])\n",
    "        y_pred = model.predict(pd.DataFrame({**extract_statistical_features(parts), **extract_frequency_features(parts), **extract_wavelet_features(parts)}))\n",
    "        y_weighted = np.asarray(y_pred).sum() / len(y_pred)\n",
    "\n",
    "        y_weighted = round(y_weighted)\n",
    "\n",
    "        df.loc[-1] = [groupnames[i], y_weighted, label]\n",
    "        df.index = df.index + 1\n",
    "        df = df.sort_index()\n",
    "    return df"
   ]
  },
  {
   "cell_type": "code",
   "execution_count": 11,
   "metadata": {},
   "outputs": [],
   "source": [
    "# There are two classes. 0 - norm, 1 - amy\n",
    "\n",
    "pred_tab = pd.DataFrame(columns=[\"name\", \"weighted_predict\", \"label\"])\n",
    "\n",
    "norm_names = os.listdir(dgen.norm_path)\n",
    "amy_names = os.listdir(dgen.amy_path)\n",
    "amyc_names = os.listdir(dgen.amyc_path)\n",
    "\n",
    "norm_names = [name[:6] + \"_norm\" + name[6:] for name in norm_names]\n",
    "\n",
    "pred_tab = calcGroupTable(voting_clf, norm_names, norm, 0, pred_tab)\n",
    "pred_tab = calcGroupTable(voting_clf, amyc_names, amyc, 0, pred_tab)\n",
    "pred_tab = calcGroupTable(voting_clf, amy_names, amy, 1, pred_tab)\n",
    "\n",
    "\n",
    "pred_tab.head(5)\n",
    "\n",
    "pred_tab.to_csv(\"voted_result.csv\", index=False)"
   ]
  }
 ],
 "metadata": {
  "kernelspec": {
   "display_name": "Python 3",
   "language": "python",
   "name": "python3"
  },
  "language_info": {
   "codemirror_mode": {
    "name": "ipython",
    "version": 3
   },
   "file_extension": ".py",
   "mimetype": "text/x-python",
   "name": "python",
   "nbconvert_exporter": "python",
   "pygments_lexer": "ipython3",
   "version": "3.11.9"
  }
 },
 "nbformat": 4,
 "nbformat_minor": 2
}
